{
 "cells": [
  {
   "cell_type": "markdown",
   "id": "QWdCOYa_LamN",
   "metadata": {
    "id": "QWdCOYa_LamN"
   },
   "source": [
    "# Configs"
   ]
  },
  {
   "cell_type": "code",
   "execution_count": 2,
   "id": "10fed42a",
   "metadata": {
    "id": "10fed42a"
   },
   "outputs": [],
   "source": [
    "import pandas as pd\n",
    "from transformers import BertTokenizer\n",
    "from keras.preprocessing.sequence import pad_sequences\n",
    "import random"
   ]
  },
  {
   "cell_type": "code",
   "execution_count": 18,
   "id": "68e8e8d9",
   "metadata": {
    "id": "68e8e8d9"
   },
   "outputs": [],
   "source": [
    "# Configs\n",
    "\n",
    "MAX_LEN = 128\n",
    "data_path = './data/tfidf.csv'\n",
    "candidates_num = 8 #标准话术数量\n",
    "\n",
    "# 如果ConnectionError就把local_files_only改成True\n",
    "tokenizer = BertTokenizer.from_pretrained('bert-base-uncased',local_files_only=False,do_lower_case=True)"
   ]
  },
  {
   "cell_type": "markdown",
   "id": "a1a166bf",
   "metadata": {
    "id": "a1a166bf"
   },
   "source": [
    "# Embed Text"
   ]
  },
  {
   "cell_type": "code",
   "execution_count": 6,
   "id": "7f683cba",
   "metadata": {
    "colab": {
     "base_uri": "https://localhost:8080/",
     "height": 378
    },
    "executionInfo": {
     "elapsed": 1010,
     "status": "ok",
     "timestamp": 1628588616551,
     "user": {
      "displayName": "Xinyi Gao",
      "photoUrl": "https://lh3.googleusercontent.com/a-/AOh14Gj558GDGyisdrx5drhcSVQ6HUdeV-ZmmqJ1Mh1h=s64",
      "userId": "08476610466733533858"
     },
     "user_tz": 420
    },
    "id": "7f683cba",
    "outputId": "0bf510f4-b055-4acb-da9c-485c47b6ad2c"
   },
   "outputs": [
    {
     "data": {
      "text/html": [
       "<div>\n",
       "<style scoped>\n",
       "    .dataframe tbody tr th:only-of-type {\n",
       "        vertical-align: middle;\n",
       "    }\n",
       "\n",
       "    .dataframe tbody tr th {\n",
       "        vertical-align: top;\n",
       "    }\n",
       "\n",
       "    .dataframe thead th {\n",
       "        text-align: right;\n",
       "    }\n",
       "</style>\n",
       "<table border=\"1\" class=\"dataframe\">\n",
       "  <thead>\n",
       "    <tr style=\"text-align: right;\">\n",
       "      <th></th>\n",
       "      <th>context</th>\n",
       "      <th>response</th>\n",
       "      <th>label_</th>\n",
       "      <th>standard</th>\n",
       "    </tr>\n",
       "  </thead>\n",
       "  <tbody>\n",
       "    <tr>\n",
       "      <th>0</th>\n",
       "      <td>呃 来电 是 感谢 你 对 联通 的 支持 嘛 从 下个月 开始 每月 25 元 就 可以 ...</td>\n",
       "      <td>嗯 那 好 那 耽误 20 秒 感谢 你 的 支持 啊 每月 25 元 的 钻石 了 会员 ...</td>\n",
       "      <td>1</td>\n",
       "      <td>好 的 感谢您 的 支持 跟 你 说 一下 会员 怎么 领取 您 根据 短信 在 微信 公众...</td>\n",
       "    </tr>\n",
       "    <tr>\n",
       "      <th>1</th>\n",
       "      <td>嗯 那 好 那 耽误 20 秒 感谢 你 的 支持 啊 每月 25 元 的 钻石 了 会员 ...</td>\n",
       "      <td>嗯 那 好 那 这边 先 不 打扰 您 了 祝您 生活 愉快 再见 嗯</td>\n",
       "      <td>1</td>\n",
       "      <td>好 的 使用 中 您 可以 下载 中国联通 APP 查询 您 的 消费 情况 关注 最新 活...</td>\n",
       "    </tr>\n",
       "    <tr>\n",
       "      <th>2</th>\n",
       "      <td>好 的 来电 的话 先 感谢 你 对 联通 的 支持 下个月 开始 每月 25 元 就 可以...</td>\n",
       "      <td>让 大家 重新 建立 嗯 这边 重新 跟 你 说 一遍 嘛 就是说 这边 来电 的话 就是 ...</td>\n",
       "      <td>1</td>\n",
       "      <td>来电 是 感谢您 对 联通 的 支持 \\n 您 从 下个月 开始 每月 只要 25 元 就 ...</td>\n",
       "    </tr>\n",
       "    <tr>\n",
       "      <th>3</th>\n",
       "      <td>让 大家 重新 建立 嗯 这边 重新 跟 你 说 一遍 嘛 就是说 这边 来电 的话 就是 ...</td>\n",
       "      <td>那 你 下个月 收到 短信 就 可以 领取 这些 会员 的 了 那 这边 给 你 10 周年...</td>\n",
       "      <td>1</td>\n",
       "      <td>来电 是 感谢您 对 联通 的 支持 \\n 您 从 下个月 开始 每月 只要 25 元 就 ...</td>\n",
       "    </tr>\n",
       "    <tr>\n",
       "      <th>4</th>\n",
       "      <td>那 你 下个月 收到 短信 就 可以 领取 这些 会员 的 了 那 这边 给 你 10 周年...</td>\n",
       "      <td>好 的 那 这边 给 那 这边 的话 感谢 你 的 支持 的 从 下个月 开始 正式 入 会...</td>\n",
       "      <td>1</td>\n",
       "      <td>好 的 感谢您 的 支持 跟 你 说 一下 会员 怎么 领取 您 根据 短信 在 微信 公众...</td>\n",
       "    </tr>\n",
       "  </tbody>\n",
       "</table>\n",
       "</div>"
      ],
      "text/plain": [
       "                                             context  \\\n",
       "0  呃 来电 是 感谢 你 对 联通 的 支持 嘛 从 下个月 开始 每月 25 元 就 可以 ...   \n",
       "1  嗯 那 好 那 耽误 20 秒 感谢 你 的 支持 啊 每月 25 元 的 钻石 了 会员 ...   \n",
       "2  好 的 来电 的话 先 感谢 你 对 联通 的 支持 下个月 开始 每月 25 元 就 可以...   \n",
       "3  让 大家 重新 建立 嗯 这边 重新 跟 你 说 一遍 嘛 就是说 这边 来电 的话 就是 ...   \n",
       "4  那 你 下个月 收到 短信 就 可以 领取 这些 会员 的 了 那 这边 给 你 10 周年...   \n",
       "\n",
       "                                            response  label_  \\\n",
       "0  嗯 那 好 那 耽误 20 秒 感谢 你 的 支持 啊 每月 25 元 的 钻石 了 会员 ...       1   \n",
       "1               嗯 那 好 那 这边 先 不 打扰 您 了 祝您 生活 愉快 再见 嗯        1   \n",
       "2  让 大家 重新 建立 嗯 这边 重新 跟 你 说 一遍 嘛 就是说 这边 来电 的话 就是 ...       1   \n",
       "3  那 你 下个月 收到 短信 就 可以 领取 这些 会员 的 了 那 这边 给 你 10 周年...       1   \n",
       "4  好 的 那 这边 给 那 这边 的话 感谢 你 的 支持 的 从 下个月 开始 正式 入 会...       1   \n",
       "\n",
       "                                            standard  \n",
       "0  好 的 感谢您 的 支持 跟 你 说 一下 会员 怎么 领取 您 根据 短信 在 微信 公众...  \n",
       "1  好 的 使用 中 您 可以 下载 中国联通 APP 查询 您 的 消费 情况 关注 最新 活...  \n",
       "2  来电 是 感谢您 对 联通 的 支持 \\n 您 从 下个月 开始 每月 只要 25 元 就 ...  \n",
       "3  来电 是 感谢您 对 联通 的 支持 \\n 您 从 下个月 开始 每月 只要 25 元 就 ...  \n",
       "4  好 的 感谢您 的 支持 跟 你 说 一下 会员 怎么 领取 您 根据 短信 在 微信 公众...  "
      ]
     },
     "execution_count": 6,
     "metadata": {},
     "output_type": "execute_result"
    }
   ],
   "source": [
    "df = pd.read_csv(data_path,index_col=0)\n",
    "df.head()"
   ]
  },
  {
   "cell_type": "code",
   "execution_count": 9,
   "id": "mtRFzzEDvAd9",
   "metadata": {
    "colab": {
     "base_uri": "https://localhost:8080/"
    },
    "executionInfo": {
     "elapsed": 2866,
     "status": "ok",
     "timestamp": 1628588446759,
     "user": {
      "displayName": "Xinyi Gao",
      "photoUrl": "https://lh3.googleusercontent.com/a-/AOh14Gj558GDGyisdrx5drhcSVQ6HUdeV-ZmmqJ1Mh1h=s64",
      "userId": "08476610466733533858"
     },
     "user_tz": 420
    },
    "id": "mtRFzzEDvAd9",
    "outputId": "da7c6504-de79-465e-f661-c5f48c579a7e"
   },
   "outputs": [
    {
     "name": "stdout",
     "output_type": "stream",
     "text": [
      "Collecting fast_ml\n",
      "  Downloading fast_ml-3.68-py3-none-any.whl (42 kB)\n",
      "Installing collected packages: fast-ml\n",
      "Successfully installed fast-ml-3.68\n"
     ]
    }
   ],
   "source": [
    "!pip install fast_ml"
   ]
  },
  {
   "cell_type": "code",
   "execution_count": 10,
   "id": "b11179da",
   "metadata": {
    "id": "b11179da"
   },
   "outputs": [],
   "source": [
    "from fast_ml.model_development import train_valid_test_split\n",
    "\n",
    "X_train, y_train, X_valid, y_valid, X_test, y_test\n",
    "= train_valid_test_split(df, target = 'label_',train_size=0.8, valid_size=0.1, test_size=0.1)"
   ]
  },
  {
   "cell_type": "markdown",
   "id": "KGhFhh9nYD4A",
   "metadata": {
    "id": "KGhFhh9nYD4A"
   },
   "source": [
    "## Fake Candidates (New)"
   ]
  },
  {
   "cell_type": "code",
   "execution_count": 11,
   "id": "Hp2X-D9xZjdE",
   "metadata": {
    "colab": {
     "base_uri": "https://localhost:8080/"
    },
    "executionInfo": {
     "elapsed": 326,
     "status": "ok",
     "timestamp": 1628588648213,
     "user": {
      "displayName": "Xinyi Gao",
      "photoUrl": "https://lh3.googleusercontent.com/a-/AOh14Gj558GDGyisdrx5drhcSVQ6HUdeV-ZmmqJ1Mh1h=s64",
      "userId": "08476610466733533858"
     },
     "user_tz": 420
    },
    "id": "Hp2X-D9xZjdE",
    "outputId": "595b7145-8242-4ac4-e366-f37f1f8d342d"
   },
   "outputs": [
    {
     "data": {
      "text/plain": [
       "['好 的 感谢您 的 支持 跟 你 说 一下 会员 怎么 领取 您 根据 短信 在 微信 公众 号 沃 音乐 领取 就 好 了 \\n 每月 25 元除 月租 外 一次性 扣取 立即 生效 自动 续订 \\n 联通 还会 返还 您 40 元 话费 分 4 个 月 每月 返还 10 元 话费 会 在 下个月 10 号 前 到 账 \\n 给 您 受理 好 收到 生效 短信 后 就 可以 放心 用 的 了 好 吧 ',\n",
       " '好 的 使用 中 您 可以 下载 中国联通 APP 查询 您 的 消费 情况 关注 最新 活动 福利 祝您 生活 愉快 再见 ',\n",
       " '来电 是 感谢您 对 联通 的 支持 \\n 您 从 下个月 开始 每月 只要 25 元 就 可以 领取 两个 VIP 会员 \\n 因为 您 是 我们 联通 的 优质 用户 联通 还会 返还 您 40 元 话费 分 四个 月 每月 返还 10 元 希望 可以 帮 你 几个 月 希望 您 用 得 好多 多 支持 联通 \\n 给 您 受理 好 收到 生效 短信 后 就 可以 放心 用 的 了 好 吧 ',\n",
       " '就 每个 月 25 元 这边 有 话费 40 元 返还 给 您 抵扣 月租 的 分 四月 每月 到 账 10 元 希望 可以 帮 您 几个 月 希望 您 用 得 好多 多 支持 联通 \\n 受理 好 收到 生效 短信 后 就 可以 领取 用 的 了 好 吧 ',\n",
       " '没关系 啊 这边 也 是 可以 给 您 续 的 而且 我们 这个 是 有 二十多种 会员 您 每个 月 可以 任意 选 两个 用 每个 月 还 可以 换 不同 的 会员 来 使用 的 受理 好 收到 生效 短信 后 就 可以 领取 用 的 了 好 吧 ',\n",
       " '您好 这边 是 联通 客服 来电 的 请问 手机 尾号 是 你 在 用 的 对 吧 ',\n",
       " '就 耽误 您 一两分钟 时间 现在 有 会员 给 到 您 用 联通 还会 返还 40 元 话费 给 您 分 四月 每月 到 账 10 元 希望 可以 帮 您 几个 月 希望 您 用 得 好多 多 支持 联通 受理 好 收到 生效 短信 后 就 可以 放心 用 的 了 好 吧 ',\n",
       " '不会 影响 您 的 套餐 的 每月 25 元 联通 还会 返还 40 元 话费 给 您 分 四月 每月 到 账 10 元 希望 可以 帮 您 几个 月 希望 您 用 得 好多 多 支持 联通 受理 好 收到 生效 短信 后 就 可以 领取 用 的 了 好 吧 ']"
      ]
     },
     "execution_count": 11,
     "metadata": {},
     "output_type": "execute_result"
    }
   ],
   "source": [
    "after = list(df.standard.unique())\n",
    "after"
   ]
  },
  {
   "cell_type": "code",
   "execution_count": 24,
   "id": "5Ne9DFlHYU_q",
   "metadata": {
    "id": "5Ne9DFlHYU_q"
   },
   "outputs": [],
   "source": [
    "from copy import deepcopy\n",
    "\n",
    "def make_candidates(X):\n",
    "  fake_candidates = []\n",
    "  new_labels = []\n",
    "  for i in range(0,len(X)):\n",
    "    temp = deepcopy(after)\n",
    "    fake_candidates.append(X.reset_index().standard[i])\n",
    "    temp.remove(X.reset_index().standard[i])\n",
    "    assert len(temp) == len(after)-1\n",
    "    fake_candidates.extend(temp)\n",
    "    candidates = [1]\n",
    "    candidates.extend([0]*(candidates_num-1))\n",
    "    new_labels.extend(candidates)\n",
    "  new_X = X.loc[X.index.repeat(8)]\n",
    "  new_X.response = fake_candidates\n",
    "  return new_X, new_labels"
   ]
  },
  {
   "cell_type": "code",
   "execution_count": 13,
   "id": "yziu9Z62gWku",
   "metadata": {
    "id": "yziu9Z62gWku"
   },
   "outputs": [],
   "source": [
    "X_train, y_train = make_candidates(X_train)\n",
    "X_valid, y_valid = make_candidates(X_valid)\n",
    "X_test, y_test = make_candidates(X_test)"
   ]
  },
  {
   "cell_type": "code",
   "execution_count": 25,
   "id": "1b268ec1",
   "metadata": {
    "id": "1b268ec1"
   },
   "outputs": [],
   "source": [
    "def vectorize(text,MAX_LEN=MAX_LEN, tokenizer=tokenizer):\n",
    "\n",
    "    input_ids = []\n",
    "    for t in text:\n",
    "        # so basically encode tokenizing , mapping sentences to thier token ids after adding special tokens.\n",
    "        encoded_sent = tokenizer.encode(\n",
    "            t,  # Sentence which are encoding.\n",
    "            add_special_tokens=True,  # Adding special tokens '[CLS]' and '[SEP]'\n",
    "        )\n",
    "        input_ids.append(encoded_sent)\n",
    "\n",
    "    input_ids = pad_sequences(input_ids, maxlen=MAX_LEN , truncating=\"pre\", padding=\"post\")\n",
    "\n",
    "    attention_masks = []\n",
    "    for sent in input_ids:\n",
    "        # Generating attention mask for sentences.\n",
    "        #   - when there is 0 present as token id we are going to set mask as 0.\n",
    "        #   - we are going to set mask 1 for all non-zero positive input id.\n",
    "        att_mask = [int(token_id > 0) for token_id in sent]\n",
    "\n",
    "        attention_masks.append(att_mask)\n",
    "\n",
    "    return attention_masks, input_ids"
   ]
  },
  {
   "cell_type": "code",
   "execution_count": 26,
   "id": "9d721b57",
   "metadata": {
    "id": "9d721b57"
   },
   "outputs": [],
   "source": [
    "from six import b\n",
    "train = {}\n",
    "train[b('y')] = y_train\n",
    "val = {}\n",
    "val[b('y')] = y_valid\n",
    "test = {}\n",
    "test[b('y')] = y_test"
   ]
  },
  {
   "cell_type": "code",
   "execution_count": 27,
   "id": "84132d5a",
   "metadata": {
    "colab": {
     "base_uri": "https://localhost:8080/"
    },
    "executionInfo": {
     "elapsed": 111972,
     "status": "ok",
     "timestamp": 1628589917453,
     "user": {
      "displayName": "Xinyi Gao",
      "photoUrl": "https://lh3.googleusercontent.com/a-/AOh14Gj558GDGyisdrx5drhcSVQ6HUdeV-ZmmqJ1Mh1h=s64",
      "userId": "08476610466733533858"
     },
     "user_tz": 420
    },
    "id": "84132d5a",
    "outputId": "54100eb1-a9c1-4029-91a3-ff0625b34d0e"
   },
   "outputs": [],
   "source": [
    "_, train_c = vectorize(X_train.context)\n",
    "_, train_r = vectorize(X_train.response)\n",
    "\n",
    "_, val_c = vectorize(X_valid.context)\n",
    "_, val_r = vectorize(X_valid.response)\n",
    "\n",
    "_, test_c = vectorize(X_test.context)\n",
    "_, test_r = vectorize(X_test.response)"
   ]
  },
  {
   "cell_type": "code",
   "execution_count": 28,
   "id": "62abc678",
   "metadata": {
    "id": "62abc678"
   },
   "outputs": [],
   "source": [
    "train[b('c')] = train_c.tolist()\n",
    "train[b('r')] = train_r.tolist()\n",
    "\n",
    "val[b('c')] = val_c.tolist()\n",
    "val[b('r')] = val_r.tolist()\n",
    "\n",
    "test[b('c')] = test_c.tolist()\n",
    "test[b('r')] = test_r.tolist()"
   ]
  },
  {
   "cell_type": "code",
   "execution_count": null,
   "id": "86d24910",
   "metadata": {
    "id": "86d24910"
   },
   "outputs": [],
   "source": [
    "input_data = (train,val,test)"
   ]
  },
  {
   "cell_type": "markdown",
   "id": "QVFo1HL-Ns6_",
   "metadata": {
    "id": "QVFo1HL-Ns6_"
   },
   "source": [
    "# Pickle as pkl"
   ]
  },
  {
   "cell_type": "code",
   "execution_count": null,
   "id": "264a978b",
   "metadata": {
    "id": "264a978b"
   },
   "outputs": [],
   "source": [
    "import pickle\n",
    "\n",
    "with open('./models-release-1.5/PaddleNLP/dialogue_model_toolkit/deep_attention_matching/data/data.pkl','wb') as f:\n",
    "    pickle.dump(input_data,f)"
   ]
  }
 ],
 "metadata": {
  "colab": {
   "collapsed_sections": [],
   "name": "Preprocess.ipynb",
   "provenance": []
  },
  "kernelspec": {
   "display_name": "Python 3",
   "language": "python",
   "name": "python3"
  },
  "language_info": {
   "codemirror_mode": {
    "name": "ipython",
    "version": 3
   },
   "file_extension": ".py",
   "mimetype": "text/x-python",
   "name": "python",
   "nbconvert_exporter": "python",
   "pygments_lexer": "ipython3",
   "version": "3.8.8"
  }
 },
 "nbformat": 4,
 "nbformat_minor": 5
}
