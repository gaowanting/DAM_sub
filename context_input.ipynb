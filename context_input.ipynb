{
 "cells": [
  {
   "cell_type": "markdown",
   "metadata": {
    "id": "9RbYe6t6N7nX"
   },
   "source": [
    "Connect Google Drive"
   ]
  },
  {
   "cell_type": "code",
   "execution_count": 4,
   "metadata": {},
   "outputs": [],
   "source": [
    "# Change the work dir to the Classifiers folder\n",
    "import os\n",
    "os.chdir(\"./data\")\n",
    "# os.chdir(\"/content/drive/Shareddrives/多轮对话实验\")"
   ]
  },
  {
   "cell_type": "code",
   "execution_count": 5,
   "metadata": {
    "executionInfo": {
     "elapsed": 306,
     "status": "ok",
     "timestamp": 1628749199894,
     "user": {
      "displayName": "wanting gao",
      "photoUrl": "",
      "userId": "02187450814790850295"
     },
     "user_tz": -480
    },
    "id": "z3HmdkteObau"
   },
   "outputs": [],
   "source": [
    "import pandas as pd"
   ]
  },
  {
   "cell_type": "code",
   "execution_count": 8,
   "metadata": {
    "executionInfo": {
     "elapsed": 315,
     "status": "ok",
     "timestamp": 1628749214562,
     "user": {
      "displayName": "wanting gao",
      "photoUrl": "",
      "userId": "02187450814790850295"
     },
     "user_tz": -480
    },
    "id": "9V3-3WXPOkYs"
   },
   "outputs": [],
   "source": [
    "data_path = \"tfidf.csv\"\n",
    "# data_path = \"/content/drive/Shareddrives/多轮对话实验/data/dataset.csv\"\n",
    "df_c = pd.read_csv(data_path, index_col=0)\n",
    "context = df_c[\"context\"][1]"
   ]
  },
  {
   "cell_type": "code",
   "execution_count": 9,
   "metadata": {
    "colab": {
     "base_uri": "https://localhost:8080/",
     "height": 305
    },
    "executionInfo": {
     "elapsed": 529,
     "status": "ok",
     "timestamp": 1628749219190,
     "user": {
      "displayName": "wanting gao",
      "photoUrl": "",
      "userId": "02187450814790850295"
     },
     "user_tz": -480
    },
    "id": "WAzAHLnSPcZK",
    "outputId": "cc762dba-6912-4bb7-c0fa-f20d052907db"
   },
   "outputs": [
    {
     "data": {
      "text/html": [
       "<div>\n",
       "<style scoped>\n",
       "    .dataframe tbody tr th:only-of-type {\n",
       "        vertical-align: middle;\n",
       "    }\n",
       "\n",
       "    .dataframe tbody tr th {\n",
       "        vertical-align: top;\n",
       "    }\n",
       "\n",
       "    .dataframe thead th {\n",
       "        text-align: right;\n",
       "    }\n",
       "</style>\n",
       "<table border=\"1\" class=\"dataframe\">\n",
       "  <thead>\n",
       "    <tr style=\"text-align: right;\">\n",
       "      <th></th>\n",
       "      <th>context</th>\n",
       "      <th>response</th>\n",
       "      <th>label_</th>\n",
       "      <th>standard</th>\n",
       "    </tr>\n",
       "  </thead>\n",
       "  <tbody>\n",
       "    <tr>\n",
       "      <th>0</th>\n",
       "      <td>呃 来电 是 感谢 你 对 联通 的 支持 嘛 从 下个月 开始 每月 25 元 就 可以 ...</td>\n",
       "      <td>嗯 那 好 那 耽误 20 秒 感谢 你 的 支持 啊 每月 25 元 的 钻石 了 会员 ...</td>\n",
       "      <td>1</td>\n",
       "      <td>好 的 感谢您 的 支持 跟 你 说 一下 会员 怎么 领取 您 根据 短信 在 微信 公众...</td>\n",
       "    </tr>\n",
       "    <tr>\n",
       "      <th>1</th>\n",
       "      <td>嗯 那 好 那 耽误 20 秒 感谢 你 的 支持 啊 每月 25 元 的 钻石 了 会员 ...</td>\n",
       "      <td>嗯 那 好 那 这边 先 不 打扰 您 了 祝您 生活 愉快 再见 嗯</td>\n",
       "      <td>1</td>\n",
       "      <td>好 的 使用 中 您 可以 下载 中国联通 APP 查询 您 的 消费 情况 关注 最新 活...</td>\n",
       "    </tr>\n",
       "    <tr>\n",
       "      <th>2</th>\n",
       "      <td>好 的 来电 的话 先 感谢 你 对 联通 的 支持 下个月 开始 每月 25 元 就 可以...</td>\n",
       "      <td>让 大家 重新 建立 嗯 这边 重新 跟 你 说 一遍 嘛 就是说 这边 来电 的话 就是 ...</td>\n",
       "      <td>1</td>\n",
       "      <td>来电 是 感谢您 对 联通 的 支持 \\n 您 从 下个月 开始 每月 只要 25 元 就 ...</td>\n",
       "    </tr>\n",
       "    <tr>\n",
       "      <th>3</th>\n",
       "      <td>让 大家 重新 建立 嗯 这边 重新 跟 你 说 一遍 嘛 就是说 这边 来电 的话 就是 ...</td>\n",
       "      <td>那 你 下个月 收到 短信 就 可以 领取 这些 会员 的 了 那 这边 给 你 10 周年...</td>\n",
       "      <td>1</td>\n",
       "      <td>来电 是 感谢您 对 联通 的 支持 \\n 您 从 下个月 开始 每月 只要 25 元 就 ...</td>\n",
       "    </tr>\n",
       "    <tr>\n",
       "      <th>4</th>\n",
       "      <td>那 你 下个月 收到 短信 就 可以 领取 这些 会员 的 了 那 这边 给 你 10 周年...</td>\n",
       "      <td>好 的 那 这边 给 那 这边 的话 感谢 你 的 支持 的 从 下个月 开始 正式 入 会...</td>\n",
       "      <td>1</td>\n",
       "      <td>好 的 感谢您 的 支持 跟 你 说 一下 会员 怎么 领取 您 根据 短信 在 微信 公众...</td>\n",
       "    </tr>\n",
       "  </tbody>\n",
       "</table>\n",
       "</div>"
      ],
      "text/plain": [
       "                                             context  \\\n",
       "0  呃 来电 是 感谢 你 对 联通 的 支持 嘛 从 下个月 开始 每月 25 元 就 可以 ...   \n",
       "1  嗯 那 好 那 耽误 20 秒 感谢 你 的 支持 啊 每月 25 元 的 钻石 了 会员 ...   \n",
       "2  好 的 来电 的话 先 感谢 你 对 联通 的 支持 下个月 开始 每月 25 元 就 可以...   \n",
       "3  让 大家 重新 建立 嗯 这边 重新 跟 你 说 一遍 嘛 就是说 这边 来电 的话 就是 ...   \n",
       "4  那 你 下个月 收到 短信 就 可以 领取 这些 会员 的 了 那 这边 给 你 10 周年...   \n",
       "\n",
       "                                            response  label_  \\\n",
       "0  嗯 那 好 那 耽误 20 秒 感谢 你 的 支持 啊 每月 25 元 的 钻石 了 会员 ...       1   \n",
       "1               嗯 那 好 那 这边 先 不 打扰 您 了 祝您 生活 愉快 再见 嗯        1   \n",
       "2  让 大家 重新 建立 嗯 这边 重新 跟 你 说 一遍 嘛 就是说 这边 来电 的话 就是 ...       1   \n",
       "3  那 你 下个月 收到 短信 就 可以 领取 这些 会员 的 了 那 这边 给 你 10 周年...       1   \n",
       "4  好 的 那 这边 给 那 这边 的话 感谢 你 的 支持 的 从 下个月 开始 正式 入 会...       1   \n",
       "\n",
       "                                            standard  \n",
       "0  好 的 感谢您 的 支持 跟 你 说 一下 会员 怎么 领取 您 根据 短信 在 微信 公众...  \n",
       "1  好 的 使用 中 您 可以 下载 中国联通 APP 查询 您 的 消费 情况 关注 最新 活...  \n",
       "2  来电 是 感谢您 对 联通 的 支持 \\n 您 从 下个月 开始 每月 只要 25 元 就 ...  \n",
       "3  来电 是 感谢您 对 联通 的 支持 \\n 您 从 下个月 开始 每月 只要 25 元 就 ...  \n",
       "4  好 的 感谢您 的 支持 跟 你 说 一下 会员 怎么 领取 您 根据 短信 在 微信 公众...  "
      ]
     },
     "execution_count": 9,
     "metadata": {},
     "output_type": "execute_result"
    }
   ],
   "source": [
    "df_c.head()"
   ]
  },
  {
   "cell_type": "code",
   "execution_count": 11,
   "metadata": {
    "id": "wvWlshjHPFDm"
   },
   "outputs": [],
   "source": [
    "context = \"呃来电是,感谢你对联通的支持嘛!从下个月开始,每月25元就可以领取两款VIP会员来用了。20多个会员随机选择，呃，联通还是返还你4个月话费，每月10元返还的话费是可以直接抵扣你月租费用的。田先生你好!你下个月收短信可以领取来用了好吧。\\t嗯，好的，好。\\t嗯，那好，那耽误20秒，感谢你的支持啊！每月25元的钻石会员，7月生效。推动点联通还会返还您10个月话费，每月10元话费会在3月10号前到账，你到时候根据短信提醒你在微信公众号或音乐领取就可以就可以用了，好吧。\\t嗯好，谢谢！\""
   ]
  },
  {
   "cell_type": "code",
   "execution_count": 10,
   "metadata": {
    "id": "O2gNQf1kPILi"
   },
   "outputs": [],
   "source": [
    "df_r = pd.read_excel(\"嘉音讯_重庆联通_未来会员STT入库表.xlsx\")"
   ]
  },
  {
   "cell_type": "code",
   "execution_count": 12,
   "metadata": {
    "id": "oW5lRspXPRn3"
   },
   "outputs": [],
   "source": [
    "re = df_r[\"文案\"].unique()"
   ]
  },
  {
   "cell_type": "code",
   "execution_count": 13,
   "metadata": {
    "id": "wdQ2bs6pSKBr"
   },
   "outputs": [],
   "source": [
    "df_input = pd.DataFrame({\"context\":context,\"response\":re})"
   ]
  },
  {
   "cell_type": "code",
   "execution_count": 14,
   "metadata": {
    "colab": {
     "base_uri": "https://localhost:8080/",
     "height": 432
    },
    "executionInfo": {
     "elapsed": 352,
     "status": "ok",
     "timestamp": 1628737151999,
     "user": {
      "displayName": "wanting gao",
      "photoUrl": "",
      "userId": "02187450814790850295"
     },
     "user_tz": -480
    },
    "id": "EeDD0u0vS_YU",
    "outputId": "2bee1ac9-af62-419c-96ad-0437df9e25ae"
   },
   "outputs": [
    {
     "data": {
      "text/html": [
       "<div>\n",
       "<style scoped>\n",
       "    .dataframe tbody tr th:only-of-type {\n",
       "        vertical-align: middle;\n",
       "    }\n",
       "\n",
       "    .dataframe tbody tr th {\n",
       "        vertical-align: top;\n",
       "    }\n",
       "\n",
       "    .dataframe thead th {\n",
       "        text-align: right;\n",
       "    }\n",
       "</style>\n",
       "<table border=\"1\" class=\"dataframe\">\n",
       "  <thead>\n",
       "    <tr style=\"text-align: right;\">\n",
       "      <th></th>\n",
       "      <th>context</th>\n",
       "      <th>response</th>\n",
       "    </tr>\n",
       "  </thead>\n",
       "  <tbody>\n",
       "    <tr>\n",
       "      <th>0</th>\n",
       "      <td>呃来电是,感谢你对联通的支持嘛!从下个月开始,每月25元就可以领取两款VIP会员来用了。20...</td>\n",
       "      <td>您好，这边是联通客服来电的，请问手机尾号****是你在用的对吧？</td>\n",
       "    </tr>\n",
       "    <tr>\n",
       "      <th>1</th>\n",
       "      <td>呃来电是,感谢你对联通的支持嘛!从下个月开始,每月25元就可以领取两款VIP会员来用了。20...</td>\n",
       "      <td>来电是感谢您对联通的支持。\\n您从下个月开始，每月只要25元就可以领取两个VIP会员。\\n因...</td>\n",
       "    </tr>\n",
       "    <tr>\n",
       "      <th>2</th>\n",
       "      <td>呃来电是,感谢你对联通的支持嘛!从下个月开始,每月25元就可以领取两款VIP会员来用了。20...</td>\n",
       "      <td>就每个月25元，这边有话费40元返还给您抵扣月租的，分四月每月到账10元，希望可以帮您几个月...</td>\n",
       "    </tr>\n",
       "    <tr>\n",
       "      <th>3</th>\n",
       "      <td>呃来电是,感谢你对联通的支持嘛!从下个月开始,每月25元就可以领取两款VIP会员来用了。20...</td>\n",
       "      <td>不会影响您的套餐的，每月25元，联通还会返还40元话费给您，分四月每月到账10元，希望可以帮...</td>\n",
       "    </tr>\n",
       "    <tr>\n",
       "      <th>4</th>\n",
       "      <td>呃来电是,感谢你对联通的支持嘛!从下个月开始,每月25元就可以领取两款VIP会员来用了。20...</td>\n",
       "      <td>没关系啊，这边也是可以给您续的，而且我们这个是有二十多种会员，您每个月可以任意选两个用，每个...</td>\n",
       "    </tr>\n",
       "    <tr>\n",
       "      <th>5</th>\n",
       "      <td>呃来电是,感谢你对联通的支持嘛!从下个月开始,每月25元就可以领取两款VIP会员来用了。20...</td>\n",
       "      <td>就耽误您一两分钟时间，现在有会员给到您用，联通还会返还40元话费给您，分四月每月到账10元，...</td>\n",
       "    </tr>\n",
       "    <tr>\n",
       "      <th>6</th>\n",
       "      <td>呃来电是,感谢你对联通的支持嘛!从下个月开始,每月25元就可以领取两款VIP会员来用了。20...</td>\n",
       "      <td>好的，感谢您的支持，跟你说一下会员怎么领取，您根据短信在微信公众号“沃音乐”领取就好了。\\n...</td>\n",
       "    </tr>\n",
       "    <tr>\n",
       "      <th>7</th>\n",
       "      <td>呃来电是,感谢你对联通的支持嘛!从下个月开始,每月25元就可以领取两款VIP会员来用了。20...</td>\n",
       "      <td>好的，使用中您可以下载“中国联通”APP查询您的消费情况、关注最新活动福利，祝您生活愉快，再见！</td>\n",
       "    </tr>\n",
       "  </tbody>\n",
       "</table>\n",
       "</div>"
      ],
      "text/plain": [
       "                                             context  \\\n",
       "0  呃来电是,感谢你对联通的支持嘛!从下个月开始,每月25元就可以领取两款VIP会员来用了。20...   \n",
       "1  呃来电是,感谢你对联通的支持嘛!从下个月开始,每月25元就可以领取两款VIP会员来用了。20...   \n",
       "2  呃来电是,感谢你对联通的支持嘛!从下个月开始,每月25元就可以领取两款VIP会员来用了。20...   \n",
       "3  呃来电是,感谢你对联通的支持嘛!从下个月开始,每月25元就可以领取两款VIP会员来用了。20...   \n",
       "4  呃来电是,感谢你对联通的支持嘛!从下个月开始,每月25元就可以领取两款VIP会员来用了。20...   \n",
       "5  呃来电是,感谢你对联通的支持嘛!从下个月开始,每月25元就可以领取两款VIP会员来用了。20...   \n",
       "6  呃来电是,感谢你对联通的支持嘛!从下个月开始,每月25元就可以领取两款VIP会员来用了。20...   \n",
       "7  呃来电是,感谢你对联通的支持嘛!从下个月开始,每月25元就可以领取两款VIP会员来用了。20...   \n",
       "\n",
       "                                            response  \n",
       "0                   您好，这边是联通客服来电的，请问手机尾号****是你在用的对吧？  \n",
       "1  来电是感谢您对联通的支持。\\n您从下个月开始，每月只要25元就可以领取两个VIP会员。\\n因...  \n",
       "2  就每个月25元，这边有话费40元返还给您抵扣月租的，分四月每月到账10元，希望可以帮您几个月...  \n",
       "3  不会影响您的套餐的，每月25元，联通还会返还40元话费给您，分四月每月到账10元，希望可以帮...  \n",
       "4  没关系啊，这边也是可以给您续的，而且我们这个是有二十多种会员，您每个月可以任意选两个用，每个...  \n",
       "5  就耽误您一两分钟时间，现在有会员给到您用，联通还会返还40元话费给您，分四月每月到账10元，...  \n",
       "6  好的，感谢您的支持，跟你说一下会员怎么领取，您根据短信在微信公众号“沃音乐”领取就好了。\\n...  \n",
       "7   好的，使用中您可以下载“中国联通”APP查询您的消费情况、关注最新活动福利，祝您生活愉快，再见！  "
      ]
     },
     "execution_count": 14,
     "metadata": {},
     "output_type": "execute_result"
    }
   ],
   "source": [
    "df_input"
   ]
  },
  {
   "cell_type": "code",
   "execution_count": null,
   "metadata": {
    "id": "iw6dztglTBHt"
   },
   "outputs": [],
   "source": []
  }
 ],
 "metadata": {
  "colab": {
   "authorship_tag": "ABX9TyMxOdCpQgUMDgssuur3762G",
   "mount_file_id": "1YyH-Sr3ZQ-yL_phuOTOOh_uDEi7Cp2Hu",
   "name": "context_input.ipynb",
   "provenance": []
  },
  "kernelspec": {
   "display_name": "Python 3",
   "language": "python",
   "name": "python3"
  },
  "language_info": {
   "codemirror_mode": {
    "name": "ipython",
    "version": 3
   },
   "file_extension": ".py",
   "mimetype": "text/x-python",
   "name": "python",
   "nbconvert_exporter": "python",
   "pygments_lexer": "ipython3",
   "version": "3.8.8"
  }
 },
 "nbformat": 4,
 "nbformat_minor": 1
}
