{
 "cells": [
  {
   "cell_type": "code",
   "execution_count": 1,
   "id": "10fed42a",
   "metadata": {
    "executionInfo": {
     "elapsed": 286,
     "status": "ok",
     "timestamp": 1628151380704,
     "user": {
      "displayName": "wanting gao",
      "photoUrl": "",
      "userId": "02187450814790850295"
     },
     "user_tz": -480
    },
    "id": "10fed42a"
   },
   "outputs": [
    {
     "name": "stderr",
     "output_type": "stream",
     "text": [
      "C:\\Users\\g2018\\anaconda3\\lib\\site-packages\\gensim\\similarities\\__init__.py:15: UserWarning: The gensim.similarities.levenshtein submodule is disabled, because the optional Levenshtein package <https://pypi.org/project/python-Levenshtein/> is unavailable. Install Levenhstein (e.g. `pip install python-Levenshtein`) to suppress this warning.\n",
      "  warnings.warn(msg)\n"
     ]
    }
   ],
   "source": [
    "import pandas as pd\n",
    "import numpy as np\n",
    "from gensim import corpora, models, similarities\n",
    "from gensim.test.utils import get_tmpfile\n",
    "from collections import defaultdict\n",
    "import random"
   ]
  },
  {
   "cell_type": "code",
   "execution_count": 3,
   "id": "260b0ccb",
   "metadata": {},
   "outputs": [
    {
     "name": "stdout",
     "output_type": "stream",
     "text": [
      "Collecting gensim\n",
      "  Downloading gensim-4.0.1-cp38-cp38-win_amd64.whl (23.9 MB)\n",
      "Collecting Cython==0.29.21\n",
      "  Downloading Cython-0.29.21-cp38-cp38-win_amd64.whl (1.7 MB)\n",
      "Collecting smart-open>=1.8.1\n",
      "  Downloading smart_open-5.1.0-py3-none-any.whl (57 kB)\n",
      "Requirement already satisfied: numpy>=1.11.3 in c:\\users\\g2018\\anaconda3\\lib\\site-packages (from gensim) (1.18.5)\n",
      "Requirement already satisfied: scipy>=0.18.1 in c:\\users\\g2018\\anaconda3\\lib\\site-packages (from gensim) (1.6.2)\n",
      "Installing collected packages: smart-open, Cython, gensim\n",
      "  Attempting uninstall: Cython\n",
      "    Found existing installation: Cython 0.29.23\n",
      "    Uninstalling Cython-0.29.23:\n",
      "      Successfully uninstalled Cython-0.29.23\n",
      "Successfully installed Cython-0.29.21 gensim-4.0.1 smart-open-5.1.0\n"
     ]
    }
   ],
   "source": [
    "!pip install gensim"
   ]
  },
  {
   "cell_type": "markdown",
   "id": "a1a166bf",
   "metadata": {
    "id": "a1a166bf"
   },
   "source": [
    "# Import Data"
   ]
  },
  {
   "cell_type": "code",
   "execution_count": 28,
   "id": "6d_QiWNmEHdc",
   "metadata": {
    "colab": {
     "base_uri": "https://localhost:8080/"
    },
    "executionInfo": {
     "elapsed": 636,
     "status": "ok",
     "timestamp": 1628151384947,
     "user": {
      "displayName": "wanting gao",
      "photoUrl": "",
      "userId": "02187450814790850295"
     },
     "user_tz": -480
    },
    "id": "6d_QiWNmEHdc",
    "outputId": "f2825b19-c5c2-4de3-bb17-ba85b630d73f"
   },
   "outputs": [],
   "source": [
    "# response_path = \"./data/ABA_train.csv\"\n",
    "response_path = \"./data/new_data.csv\"\n",
    "candidate_path = \"./data/嘉音讯_重庆联通_未来会员STT入库表.xlsx\""
   ]
  },
  {
   "cell_type": "code",
   "execution_count": 29,
   "id": "08030a67",
   "metadata": {},
   "outputs": [
    {
     "data": {
      "text/html": [
       "<div>\n",
       "<style scoped>\n",
       "    .dataframe tbody tr th:only-of-type {\n",
       "        vertical-align: middle;\n",
       "    }\n",
       "\n",
       "    .dataframe tbody tr th {\n",
       "        vertical-align: top;\n",
       "    }\n",
       "\n",
       "    .dataframe thead th {\n",
       "        text-align: right;\n",
       "    }\n",
       "</style>\n",
       "<table border=\"1\" class=\"dataframe\">\n",
       "  <thead>\n",
       "    <tr style=\"text-align: right;\">\n",
       "      <th></th>\n",
       "      <th>Context</th>\n",
       "      <th>Response</th>\n",
       "      <th>Label</th>\n",
       "      <th>SessionId</th>\n",
       "    </tr>\n",
       "    <tr>\n",
       "      <th>index</th>\n",
       "      <th></th>\n",
       "      <th></th>\n",
       "      <th></th>\n",
       "      <th></th>\n",
       "    </tr>\n",
       "  </thead>\n",
       "  <tbody>\n",
       "    <tr>\n",
       "      <th>1</th>\n",
       "      <td>你好，中国联通从204手机尾号3682的机主吗？-------嗯对。</td>\n",
       "      <td>好抱歉打扰到您了，感谢您的接听，这边是重庆联通给你来电的，通知到您从这个月开始，每幺十五元给...</td>\n",
       "      <td>1</td>\n",
       "      <td>1</td>\n",
       "    </tr>\n",
       "    <tr>\n",
       "      <th>2</th>\n",
       "      <td>好抱歉打扰到您了，感谢您的接听，这边是重庆联通给你来电的，通知到您从这个月开始，每幺十五元给...</td>\n",
       "      <td>好了，这边跟您说一下，咱们领取每要15元的暂时的会员，您按照短信步骤在微信上领取就行了，话费...</td>\n",
       "      <td>1</td>\n",
       "      <td>1</td>\n",
       "    </tr>\n",
       "    <tr>\n",
       "      <th>3</th>\n",
       "      <td>好了，这边跟您说一下，咱们领取每要15元的暂时的会员，您按照短信步骤在微信上领取就行了，话费...</td>\n",
       "      <td>嗯这边耽误您30秒时间就可以了先生。~~~然后的话啊首月是征到第二天到账的，后期是10号前到...</td>\n",
       "      <td>1</td>\n",
       "      <td>1</td>\n",
       "    </tr>\n",
       "    <tr>\n",
       "      <th>4</th>\n",
       "      <td>嗯这边耽误您30秒时间就可以了先生。~~~然后的话啊首月是征到第二天到账的，后期是10号前到...</td>\n",
       "      <td>好的，打扰到您了，祝您生活愉快，再见。</td>\n",
       "      <td>1</td>\n",
       "      <td>1</td>\n",
       "    </tr>\n",
       "    <tr>\n",
       "      <th>5</th>\n",
       "      <td>请问是重庆通给您来电，请问您现在今天这手机尾号2919是您在用的对吗？-------对。~~~啊</td>\n",
       "      <td>你好先生，来电视短信资源通知时，这个月开始每月25元，您可以领取到两款VIP，扣押了~~~比...</td>\n",
       "      <td>1</td>\n",
       "      <td>2</td>\n",
       "    </tr>\n",
       "    <tr>\n",
       "      <th>...</th>\n",
       "      <td>...</td>\n",
       "      <td>...</td>\n",
       "      <td>...</td>\n",
       "      <td>...</td>\n",
       "    </tr>\n",
       "    <tr>\n",
       "      <th>28659</th>\n",
       "      <td>您好，中国联通建议来电，请问本机尾号1202是您在用的对吧？-------两个，一个是谁？</td>\n",
       "      <td>啊很抱歉打扰到您。~~~来电是感谢您对联通的支持，从这个月开始啊每个月25元给您领取两款VI...</td>\n",
       "      <td>1</td>\n",
       "      <td>7450</td>\n",
       "    </tr>\n",
       "    <tr>\n",
       "      <th>28660</th>\n",
       "      <td>啊很抱歉打扰到您。~~~来电是感谢您对联通的支持，从这个月开始啊每个月25元给您领取两款VI...</td>\n",
       "      <td>啊就是说从这个月开始，嘛每个月25块钱，你可以领取到2块5VIP会员，嘛~~~有20多款热门...</td>\n",
       "      <td>1</td>\n",
       "      <td>7450</td>\n",
       "    </tr>\n",
       "    <tr>\n",
       "      <th>28661</th>\n",
       "      <td>啊就是说从这个月开始，嘛每个月25块钱，你可以领取到2块5VIP会员，嘛~~~有20多款热门...</td>\n",
       "      <td>需要每个月25块钱的，都每个月25块钱马上给您领取到两款VIP会员了。~~~那这边也是留意到。</td>\n",
       "      <td>1</td>\n",
       "      <td>7450</td>\n",
       "    </tr>\n",
       "    <tr>\n",
       "      <th>28662</th>\n",
       "      <td>需要每个月25块钱的，都每个月25块钱马上给您领取到两款VIP会员了。~~~那这边也是留意到...</td>\n",
       "      <td>嗯是的，因为就是说这边也是留意到您嘛现在都有在用这些APP，啊~~~就是说我每个月25块钱。</td>\n",
       "      <td>1</td>\n",
       "      <td>7450</td>\n",
       "    </tr>\n",
       "    <tr>\n",
       "      <th>28663</th>\n",
       "      <td>嗯是的，因为就是说这边也是留意到您嘛现在都有在用这些APP，啊~~~就是说我每个月25块钱。...</td>\n",
       "      <td>嗯对，是每个月多25块钱的。~~~嘛~~~每个月存一下。</td>\n",
       "      <td>1</td>\n",
       "      <td>7450</td>\n",
       "    </tr>\n",
       "  </tbody>\n",
       "</table>\n",
       "<p>28663 rows × 4 columns</p>\n",
       "</div>"
      ],
      "text/plain": [
       "                                                 Context  \\\n",
       "index                                                      \n",
       "1                     你好，中国联通从204手机尾号3682的机主吗？-------嗯对。   \n",
       "2      好抱歉打扰到您了，感谢您的接听，这边是重庆联通给你来电的，通知到您从这个月开始，每幺十五元给...   \n",
       "3      好了，这边跟您说一下，咱们领取每要15元的暂时的会员，您按照短信步骤在微信上领取就行了，话费...   \n",
       "4      嗯这边耽误您30秒时间就可以了先生。~~~然后的话啊首月是征到第二天到账的，后期是10号前到...   \n",
       "5       请问是重庆通给您来电，请问您现在今天这手机尾号2919是您在用的对吗？-------对。~~~啊   \n",
       "...                                                  ...   \n",
       "28659      您好，中国联通建议来电，请问本机尾号1202是您在用的对吧？-------两个，一个是谁？   \n",
       "28660  啊很抱歉打扰到您。~~~来电是感谢您对联通的支持，从这个月开始啊每个月25元给您领取两款VI...   \n",
       "28661  啊就是说从这个月开始，嘛每个月25块钱，你可以领取到2块5VIP会员，嘛~~~有20多款热门...   \n",
       "28662  需要每个月25块钱的，都每个月25块钱马上给您领取到两款VIP会员了。~~~那这边也是留意到...   \n",
       "28663  嗯是的，因为就是说这边也是留意到您嘛现在都有在用这些APP，啊~~~就是说我每个月25块钱。...   \n",
       "\n",
       "                                                Response  Label  SessionId  \n",
       "index                                                                       \n",
       "1      好抱歉打扰到您了，感谢您的接听，这边是重庆联通给你来电的，通知到您从这个月开始，每幺十五元给...      1          1  \n",
       "2      好了，这边跟您说一下，咱们领取每要15元的暂时的会员，您按照短信步骤在微信上领取就行了，话费...      1          1  \n",
       "3      嗯这边耽误您30秒时间就可以了先生。~~~然后的话啊首月是征到第二天到账的，后期是10号前到...      1          1  \n",
       "4                                    好的，打扰到您了，祝您生活愉快，再见。      1          1  \n",
       "5      你好先生，来电视短信资源通知时，这个月开始每月25元，您可以领取到两款VIP，扣押了~~~比...      1          2  \n",
       "...                                                  ...    ...        ...  \n",
       "28659  啊很抱歉打扰到您。~~~来电是感谢您对联通的支持，从这个月开始啊每个月25元给您领取两款VI...      1       7450  \n",
       "28660  啊就是说从这个月开始，嘛每个月25块钱，你可以领取到2块5VIP会员，嘛~~~有20多款热门...      1       7450  \n",
       "28661    需要每个月25块钱的，都每个月25块钱马上给您领取到两款VIP会员了。~~~那这边也是留意到。      1       7450  \n",
       "28662     嗯是的，因为就是说这边也是留意到您嘛现在都有在用这些APP，啊~~~就是说我每个月25块钱。      1       7450  \n",
       "28663                       嗯对，是每个月多25块钱的。~~~嘛~~~每个月存一下。      1       7450  \n",
       "\n",
       "[28663 rows x 4 columns]"
      ]
     },
     "execution_count": 29,
     "metadata": {},
     "output_type": "execute_result"
    }
   ],
   "source": [
    "response_data"
   ]
  },
  {
   "cell_type": "code",
   "execution_count": 30,
   "id": "7f683cba",
   "metadata": {
    "executionInfo": {
     "elapsed": 346,
     "status": "ok",
     "timestamp": 1628151387640,
     "user": {
      "displayName": "wanting gao",
      "photoUrl": "",
      "userId": "02187450814790850295"
     },
     "user_tz": -480
    },
    "id": "7f683cba"
   },
   "outputs": [],
   "source": [
    "response_data = pd.read_csv(response_path,index_col=0)\n",
    "standard_data = pd.read_excel(candidate_path,index_col=0)"
   ]
  },
  {
   "cell_type": "code",
   "execution_count": 31,
   "id": "cf311249",
   "metadata": {
    "colab": {
     "base_uri": "https://localhost:8080/"
    },
    "executionInfo": {
     "elapsed": 639,
     "status": "ok",
     "timestamp": 1628151406054,
     "user": {
      "displayName": "wanting gao",
      "photoUrl": "",
      "userId": "02187450814790850295"
     },
     "user_tz": -480
    },
    "id": "cf311249",
    "outputId": "098f6443-cf4d-4095-bd0e-7e3f3ac1cc9a"
   },
   "outputs": [],
   "source": [
    "df = response_data\n",
    "df2 = standard_data"
   ]
  },
  {
   "cell_type": "code",
   "execution_count": 32,
   "id": "b972b168",
   "metadata": {},
   "outputs": [
    {
     "data": {
      "text/html": [
       "<div>\n",
       "<style scoped>\n",
       "    .dataframe tbody tr th:only-of-type {\n",
       "        vertical-align: middle;\n",
       "    }\n",
       "\n",
       "    .dataframe tbody tr th {\n",
       "        vertical-align: top;\n",
       "    }\n",
       "\n",
       "    .dataframe thead th {\n",
       "        text-align: right;\n",
       "    }\n",
       "</style>\n",
       "<table border=\"1\" class=\"dataframe\">\n",
       "  <thead>\n",
       "    <tr style=\"text-align: right;\">\n",
       "      <th></th>\n",
       "      <th>context</th>\n",
       "      <th>response</th>\n",
       "      <th>label_</th>\n",
       "      <th>SessionId</th>\n",
       "    </tr>\n",
       "    <tr>\n",
       "      <th>index</th>\n",
       "      <th></th>\n",
       "      <th></th>\n",
       "      <th></th>\n",
       "      <th></th>\n",
       "    </tr>\n",
       "  </thead>\n",
       "  <tbody>\n",
       "    <tr>\n",
       "      <th>1</th>\n",
       "      <td>你好，中国联通从204手机尾号3682的机主吗？-------嗯对。</td>\n",
       "      <td>好抱歉打扰到您了，感谢您的接听，这边是重庆联通给你来电的，通知到您从这个月开始，每幺十五元给...</td>\n",
       "      <td>1</td>\n",
       "      <td>1</td>\n",
       "    </tr>\n",
       "    <tr>\n",
       "      <th>2</th>\n",
       "      <td>好抱歉打扰到您了，感谢您的接听，这边是重庆联通给你来电的，通知到您从这个月开始，每幺十五元给...</td>\n",
       "      <td>好了，这边跟您说一下，咱们领取每要15元的暂时的会员，您按照短信步骤在微信上领取就行了，话费...</td>\n",
       "      <td>1</td>\n",
       "      <td>1</td>\n",
       "    </tr>\n",
       "    <tr>\n",
       "      <th>3</th>\n",
       "      <td>好了，这边跟您说一下，咱们领取每要15元的暂时的会员，您按照短信步骤在微信上领取就行了，话费...</td>\n",
       "      <td>嗯这边耽误您30秒时间就可以了先生。~~~然后的话啊首月是征到第二天到账的，后期是10号前到...</td>\n",
       "      <td>1</td>\n",
       "      <td>1</td>\n",
       "    </tr>\n",
       "    <tr>\n",
       "      <th>4</th>\n",
       "      <td>嗯这边耽误您30秒时间就可以了先生。~~~然后的话啊首月是征到第二天到账的，后期是10号前到...</td>\n",
       "      <td>好的，打扰到您了，祝您生活愉快，再见。</td>\n",
       "      <td>1</td>\n",
       "      <td>1</td>\n",
       "    </tr>\n",
       "    <tr>\n",
       "      <th>5</th>\n",
       "      <td>请问是重庆通给您来电，请问您现在今天这手机尾号2919是您在用的对吗？-------对。~~~啊</td>\n",
       "      <td>你好先生，来电视短信资源通知时，这个月开始每月25元，您可以领取到两款VIP，扣押了~~~比...</td>\n",
       "      <td>1</td>\n",
       "      <td>2</td>\n",
       "    </tr>\n",
       "  </tbody>\n",
       "</table>\n",
       "</div>"
      ],
      "text/plain": [
       "                                                 context  \\\n",
       "index                                                      \n",
       "1                     你好，中国联通从204手机尾号3682的机主吗？-------嗯对。   \n",
       "2      好抱歉打扰到您了，感谢您的接听，这边是重庆联通给你来电的，通知到您从这个月开始，每幺十五元给...   \n",
       "3      好了，这边跟您说一下，咱们领取每要15元的暂时的会员，您按照短信步骤在微信上领取就行了，话费...   \n",
       "4      嗯这边耽误您30秒时间就可以了先生。~~~然后的话啊首月是征到第二天到账的，后期是10号前到...   \n",
       "5       请问是重庆通给您来电，请问您现在今天这手机尾号2919是您在用的对吗？-------对。~~~啊   \n",
       "\n",
       "                                                response  label_  SessionId  \n",
       "index                                                                        \n",
       "1      好抱歉打扰到您了，感谢您的接听，这边是重庆联通给你来电的，通知到您从这个月开始，每幺十五元给...       1          1  \n",
       "2      好了，这边跟您说一下，咱们领取每要15元的暂时的会员，您按照短信步骤在微信上领取就行了，话费...       1          1  \n",
       "3      嗯这边耽误您30秒时间就可以了先生。~~~然后的话啊首月是征到第二天到账的，后期是10号前到...       1          1  \n",
       "4                                    好的，打扰到您了，祝您生活愉快，再见。       1          1  \n",
       "5      你好先生，来电视短信资源通知时，这个月开始每月25元，您可以领取到两款VIP，扣押了~~~比...       1          2  "
      ]
     },
     "execution_count": 32,
     "metadata": {},
     "output_type": "execute_result"
    }
   ],
   "source": [
    "df = df.rename(columns={'Context':'context', 'Response':'response', \"Label\":'label_'})\n",
    "df.head()"
   ]
  },
  {
   "cell_type": "code",
   "execution_count": 33,
   "id": "d074f676",
   "metadata": {
    "colab": {
     "base_uri": "https://localhost:8080/",
     "height": 336
    },
    "executionInfo": {
     "elapsed": 1016,
     "status": "ok",
     "timestamp": 1628151409259,
     "user": {
      "displayName": "wanting gao",
      "photoUrl": "",
      "userId": "02187450814790850295"
     },
     "user_tz": -480
    },
    "id": "d074f676",
    "outputId": "bdd9ac0d-0f16-4d20-a1f5-823053bbbdea"
   },
   "outputs": [
    {
     "data": {
      "text/html": [
       "<div>\n",
       "<style scoped>\n",
       "    .dataframe tbody tr th:only-of-type {\n",
       "        vertical-align: middle;\n",
       "    }\n",
       "\n",
       "    .dataframe tbody tr th {\n",
       "        vertical-align: top;\n",
       "    }\n",
       "\n",
       "    .dataframe thead th {\n",
       "        text-align: right;\n",
       "    }\n",
       "</style>\n",
       "<table border=\"1\" class=\"dataframe\">\n",
       "  <thead>\n",
       "    <tr style=\"text-align: right;\">\n",
       "      <th></th>\n",
       "      <th>是否重点句</th>\n",
       "      <th>重点句标题</th>\n",
       "      <th>客户回复分类</th>\n",
       "      <th>疑问句分类</th>\n",
       "      <th>文案</th>\n",
       "      <th>簇心编码</th>\n",
       "    </tr>\n",
       "    <tr>\n",
       "      <th>客户状态</th>\n",
       "      <th></th>\n",
       "      <th></th>\n",
       "      <th></th>\n",
       "      <th></th>\n",
       "      <th></th>\n",
       "      <th></th>\n",
       "    </tr>\n",
       "  </thead>\n",
       "  <tbody>\n",
       "    <tr>\n",
       "      <th>1</th>\n",
       "      <td>是</td>\n",
       "      <td>问候句</td>\n",
       "      <td>NaN</td>\n",
       "      <td>NaN</td>\n",
       "      <td>您好，这边是联通客服来电的，请问手机尾号****是你在用的对吧？</td>\n",
       "      <td>1000</td>\n",
       "    </tr>\n",
       "    <tr>\n",
       "      <th>2</th>\n",
       "      <td>是</td>\n",
       "      <td>质检句1</td>\n",
       "      <td>NaN</td>\n",
       "      <td>NaN</td>\n",
       "      <td>来电是感谢您对联通的支持。\\n您从下个月开始，每月只要25元就可以领取两个VIP会员。\\n因...</td>\n",
       "      <td>1001</td>\n",
       "    </tr>\n",
       "    <tr>\n",
       "      <th>2</th>\n",
       "      <td>否</td>\n",
       "      <td>质检句1</td>\n",
       "      <td>Bq</td>\n",
       "      <td>我需要交多25块钱吗？</td>\n",
       "      <td>就每个月25元，这边有话费40元返还给您抵扣月租的，分四月每月到账10元，希望可以帮您几个月...</td>\n",
       "      <td>1002</td>\n",
       "    </tr>\n",
       "    <tr>\n",
       "      <th>2</th>\n",
       "      <td>否</td>\n",
       "      <td>质检句1</td>\n",
       "      <td>Bq</td>\n",
       "      <td>我的套餐会改变吗？</td>\n",
       "      <td>不会影响您的套餐的，每月25元，联通还会返还40元话费给您，分四月每月到账10元，希望可以帮...</td>\n",
       "      <td>1003</td>\n",
       "    </tr>\n",
       "    <tr>\n",
       "      <th>2</th>\n",
       "      <td>否</td>\n",
       "      <td>质检句1</td>\n",
       "      <td>Bq</td>\n",
       "      <td>我已经有会员了</td>\n",
       "      <td>没关系啊，这边也是可以给您续的，而且我们这个是有二十多种会员，您每个月可以任意选两个用，每个...</td>\n",
       "      <td>1004</td>\n",
       "    </tr>\n",
       "  </tbody>\n",
       "</table>\n",
       "</div>"
      ],
      "text/plain": [
       "     是否重点句 重点句标题 客户回复分类        疑问句分类  \\\n",
       "客户状态                                   \n",
       "1        是   问候句    NaN          NaN   \n",
       "2        是  质检句1    NaN          NaN   \n",
       "2        否  质检句1     Bq  我需要交多25块钱吗？   \n",
       "2        否  质检句1     Bq    我的套餐会改变吗？   \n",
       "2        否  质检句1     Bq      我已经有会员了   \n",
       "\n",
       "                                                     文案  簇心编码  \n",
       "客户状态                                                           \n",
       "1                      您好，这边是联通客服来电的，请问手机尾号****是你在用的对吧？  1000  \n",
       "2     来电是感谢您对联通的支持。\\n您从下个月开始，每月只要25元就可以领取两个VIP会员。\\n因...  1001  \n",
       "2     就每个月25元，这边有话费40元返还给您抵扣月租的，分四月每月到账10元，希望可以帮您几个月...  1002  \n",
       "2     不会影响您的套餐的，每月25元，联通还会返还40元话费给您，分四月每月到账10元，希望可以帮...  1003  \n",
       "2     没关系啊，这边也是可以给您续的，而且我们这个是有二十多种会员，您每个月可以任意选两个用，每个...  1004  "
      ]
     },
     "execution_count": 33,
     "metadata": {},
     "output_type": "execute_result"
    }
   ],
   "source": [
    "standard_data.head()"
   ]
  },
  {
   "cell_type": "markdown",
   "id": "9h8DKgSHM8pv",
   "metadata": {
    "id": "9h8DKgSHM8pv"
   },
   "source": [
    "jieba中文分词"
   ]
  },
  {
   "cell_type": "code",
   "execution_count": 7,
   "id": "ebQvgVx2Nufs",
   "metadata": {
    "executionInfo": {
     "elapsed": 339,
     "status": "ok",
     "timestamp": 1628151414920,
     "user": {
      "displayName": "wanting gao",
      "photoUrl": "",
      "userId": "02187450814790850295"
     },
     "user_tz": -480
    },
    "id": "ebQvgVx2Nufs"
   },
   "outputs": [],
   "source": [
    "import jieba"
   ]
  },
  {
   "cell_type": "code",
   "execution_count": 34,
   "id": "1a9ae4IpLvNH",
   "metadata": {
    "executionInfo": {
     "elapsed": 3,
     "status": "ok",
     "timestamp": 1628151419142,
     "user": {
      "displayName": "wanting gao",
      "photoUrl": "",
      "userId": "02187450814790850295"
     },
     "user_tz": -480
    },
    "id": "1a9ae4IpLvNH"
   },
   "outputs": [],
   "source": [
    "#  去停用词\n",
    "#  加载停用词列表\n",
    "def load_stopword(filepath):\n",
    "    f_stop = open(filepath, encoding='utf-8') # 中文停用词表\n",
    "    sw = [line.strip() for line in f_stop] # strip() 方法用于移除字符串头尾制定的字符(默认为空格)\n",
    "    f_stop.close() \n",
    "    return sw\n",
    "\n",
    "# jieba中文分词，去停用词\n",
    "def seg_word(sentence):\n",
    "    sentence_seged = jieba.lcut(sentence.strip(), use_paddle = True)\n",
    "    stopwords = load_stopword('./data/new_stop_words.txt')\n",
    "    outstr = ''\n",
    "    for word in sentence_seged:\n",
    "        if word not in stopwords:\n",
    "            if word != '\\t':\n",
    "                outstr += word \n",
    "                outstr += \" \"\n",
    "    # print(outstr)\n",
    "    return outstr"
   ]
  },
  {
   "cell_type": "code",
   "execution_count": 35,
   "id": "3JAGg8_7ND28",
   "metadata": {
    "colab": {
     "base_uri": "https://localhost:8080/"
    },
    "executionInfo": {
     "elapsed": 378,
     "status": "ok",
     "timestamp": 1628151422772,
     "user": {
      "displayName": "wanting gao",
      "photoUrl": "",
      "userId": "02187450814790850295"
     },
     "user_tz": -480
    },
    "id": "3JAGg8_7ND28",
    "outputId": "876e4fe0-c1f9-4bda-a0eb-473006d3a5a7"
   },
   "outputs": [
    {
     "data": {
      "text/plain": [
       "客户状态\n",
       "1           您好 这边 是 联通 客服 来电 的 请问 手机 尾号 是 你 在 用 的 对 吧 \n",
       "2    来电 是 感谢您 对 联通 的 支持 \\n 您 从 下个月 开始 每月 只要 25 元 就 ...\n",
       "2    就 每个 月 25 元 这边 有 话费 40 元 返还 给 您 抵扣 月租 的 分 四月 每...\n",
       "2    不会 影响 您 的 套餐 的 每月 25 元 联通 还会 返还 40 元 话费 给 您 分 ...\n",
       "2    没关系 啊 这边 也 是 可以 给 您 续 的 而且 我们 这个 是 有 二十多种 会员 您...\n",
       "2    就 耽误 您 一两分钟 时间 现在 有 会员 给 到 您 用 联通 还会 返还 40 元 话...\n",
       "3    好 的 感谢您 的 支持 跟 你 说 一下 会员 怎么 领取 您 根据 短信 在 微信 公众...\n",
       "3    就 每个 月 25 元 这边 有 话费 40 元 返还 给 您 抵扣 月租 的 分 四月 每...\n",
       "3    不会 影响 您 的 套餐 的 每月 25 元 联通 还会 返还 40 元 话费 给 您 分 ...\n",
       "3    没关系 啊 这边 也 是 可以 给 您 续 的 而且 我们 这个 是 有 二十多种 会员 您...\n",
       "3    就 耽误 您 一两分钟 时间 现在 有 会员 给 到 您 用 联通 还会 返还 40 元 话...\n",
       "4    好 的 使用 中 您 可以 下载 中国联通 APP 查询 您 的 消费 情况 关注 最新 活...\n",
       "Name: 文案, dtype: object"
      ]
     },
     "execution_count": 35,
     "metadata": {},
     "output_type": "execute_result"
    }
   ],
   "source": [
    "after = [] \n",
    "for sentence in df2[\"文案\"]:\n",
    "  after.append(seg_word(sentence))\n",
    "df2[\"文案\"] = after\n",
    "df2[\"文案\"]"
   ]
  },
  {
   "cell_type": "code",
   "execution_count": 36,
   "id": "9f7e9e04",
   "metadata": {},
   "outputs": [
    {
     "name": "stdout",
     "output_type": "stream",
     "text": [
      "                                                 context  \\\n",
      "index                                                      \n",
      "1           你好 中国联通 从 204 手机 尾号 3682 的 机主 吗 ------- 嗯 对    \n",
      "2      好 抱歉 打扰到 您 了 感谢您 的 接听 这边 是 重庆 联通 给 你 来电 的 通知 到...   \n",
      "3      好 了 这边 跟 您 说 一下 咱们 领取 每要 15 元 的 暂时 的 会员 您 按照 短...   \n",
      "4      嗯 这边 耽误 您 30 秒 时间 就 可以 了 先生 然后 的话 啊 首 月 是 征到 第...   \n",
      "5      请问 是 重庆 通给 您 来电 请问 您 现在 今天 这 手机 尾号 2919 是 您 在 ...   \n",
      "\n",
      "                                                response  label_  SessionId  \n",
      "index                                                                        \n",
      "1      好 抱歉 打扰到 您 了 感谢您 的 接听 这边 是 重庆 联通 给 你 来电 的 通知 到...       1          1  \n",
      "2      好 了 这边 跟 您 说 一下 咱们 领取 每要 15 元 的 暂时 的 会员 您 按照 短...       1          1  \n",
      "3      嗯 这边 耽误 您 30 秒 时间 就 可以 了 先生 然后 的话 啊 首 月 是 征到 第...       1          1  \n",
      "4                               好 的 打扰到 您 了 祝您 生活 愉快 再见        1          1  \n",
      "5      你好 先生 来 电视 短信 资源 通知 时 这个 月 开始 每月 25 元 您 可以 领取 ...       1          2  \n"
     ]
    }
   ],
   "source": [
    "after2 = []\n",
    "after3 = []\n",
    "for st in zip(df[\"context\"],df[\"response\"]):\n",
    "  after2.append(seg_word(st[0]))\n",
    "  after3.append(seg_word(st[1]))\n",
    "df[\"context\"] = after2\n",
    "df[\"response\"] = after3\n",
    "print(df.head())"
   ]
  },
  {
   "cell_type": "code",
   "execution_count": 37,
   "id": "a1ecc748",
   "metadata": {
    "executionInfo": {
     "elapsed": 288,
     "status": "ok",
     "timestamp": 1628151428171,
     "user": {
      "displayName": "wanting gao",
      "photoUrl": "",
      "userId": "02187450814790850295"
     },
     "user_tz": -480
    },
    "id": "a1ecc748"
   },
   "outputs": [],
   "source": [
    "response = [i.split() for i in df.response]\n",
    "standard = [i.split() for i in df2[\"文案\"]] "
   ]
  },
  {
   "cell_type": "code",
   "execution_count": 43,
   "id": "3360ae1c",
   "metadata": {},
   "outputs": [
    {
     "data": {
      "text/html": [
       "<div>\n",
       "<style scoped>\n",
       "    .dataframe tbody tr th:only-of-type {\n",
       "        vertical-align: middle;\n",
       "    }\n",
       "\n",
       "    .dataframe tbody tr th {\n",
       "        vertical-align: top;\n",
       "    }\n",
       "\n",
       "    .dataframe thead th {\n",
       "        text-align: right;\n",
       "    }\n",
       "</style>\n",
       "<table border=\"1\" class=\"dataframe\">\n",
       "  <thead>\n",
       "    <tr style=\"text-align: right;\">\n",
       "      <th></th>\n",
       "      <th>context</th>\n",
       "      <th>response</th>\n",
       "      <th>label_</th>\n",
       "      <th>SessionId</th>\n",
       "      <th>standard</th>\n",
       "    </tr>\n",
       "    <tr>\n",
       "      <th>index</th>\n",
       "      <th></th>\n",
       "      <th></th>\n",
       "      <th></th>\n",
       "      <th></th>\n",
       "      <th></th>\n",
       "    </tr>\n",
       "  </thead>\n",
       "  <tbody>\n",
       "    <tr>\n",
       "      <th>1</th>\n",
       "      <td>你好 中国联通 从 204 手机 尾号 3682 的 机主 吗 ------- 嗯 对</td>\n",
       "      <td>好 抱歉 打扰到 您 了 感谢您 的 接听 这边 是 重庆 联通 给 你 来电 的 通知 到...</td>\n",
       "      <td>1</td>\n",
       "      <td>1</td>\n",
       "      <td>来电 是 感谢您 对 联通 的 支持 \\n 您 从 下个月 开始 每月 只要 25 元 就 ...</td>\n",
       "    </tr>\n",
       "    <tr>\n",
       "      <th>2</th>\n",
       "      <td>好 抱歉 打扰到 您 了 感谢您 的 接听 这边 是 重庆 联通 给 你 来电 的 通知 到...</td>\n",
       "      <td>好 了 这边 跟 您 说 一下 咱们 领取 每要 15 元 的 暂时 的 会员 您 按照 短...</td>\n",
       "      <td>1</td>\n",
       "      <td>1</td>\n",
       "      <td>好 的 感谢您 的 支持 跟 你 说 一下 会员 怎么 领取 您 根据 短信 在 微信 公众...</td>\n",
       "    </tr>\n",
       "    <tr>\n",
       "      <th>3</th>\n",
       "      <td>好 了 这边 跟 您 说 一下 咱们 领取 每要 15 元 的 暂时 的 会员 您 按照 短...</td>\n",
       "      <td>嗯 这边 耽误 您 30 秒 时间 就 可以 了 先生 然后 的话 啊 首 月 是 征到 第...</td>\n",
       "      <td>1</td>\n",
       "      <td>1</td>\n",
       "      <td>好 的 感谢您 的 支持 跟 你 说 一下 会员 怎么 领取 您 根据 短信 在 微信 公众...</td>\n",
       "    </tr>\n",
       "    <tr>\n",
       "      <th>4</th>\n",
       "      <td>嗯 这边 耽误 您 30 秒 时间 就 可以 了 先生 然后 的话 啊 首 月 是 征到 第...</td>\n",
       "      <td>好 的 打扰到 您 了 祝您 生活 愉快 再见</td>\n",
       "      <td>1</td>\n",
       "      <td>1</td>\n",
       "      <td>好 的 使用 中 您 可以 下载 中国联通 APP 查询 您 的 消费 情况 关注 最新 活...</td>\n",
       "    </tr>\n",
       "    <tr>\n",
       "      <th>5</th>\n",
       "      <td>请问 是 重庆 通给 您 来电 请问 您 现在 今天 这 手机 尾号 2919 是 您 在 ...</td>\n",
       "      <td>你好 先生 来 电视 短信 资源 通知 时 这个 月 开始 每月 25 元 您 可以 领取 ...</td>\n",
       "      <td>1</td>\n",
       "      <td>2</td>\n",
       "      <td>来电 是 感谢您 对 联通 的 支持 \\n 您 从 下个月 开始 每月 只要 25 元 就 ...</td>\n",
       "    </tr>\n",
       "  </tbody>\n",
       "</table>\n",
       "</div>"
      ],
      "text/plain": [
       "                                                 context  \\\n",
       "index                                                      \n",
       "1           你好 中国联通 从 204 手机 尾号 3682 的 机主 吗 ------- 嗯 对    \n",
       "2      好 抱歉 打扰到 您 了 感谢您 的 接听 这边 是 重庆 联通 给 你 来电 的 通知 到...   \n",
       "3      好 了 这边 跟 您 说 一下 咱们 领取 每要 15 元 的 暂时 的 会员 您 按照 短...   \n",
       "4      嗯 这边 耽误 您 30 秒 时间 就 可以 了 先生 然后 的话 啊 首 月 是 征到 第...   \n",
       "5      请问 是 重庆 通给 您 来电 请问 您 现在 今天 这 手机 尾号 2919 是 您 在 ...   \n",
       "\n",
       "                                                response  label_  SessionId  \\\n",
       "index                                                                         \n",
       "1      好 抱歉 打扰到 您 了 感谢您 的 接听 这边 是 重庆 联通 给 你 来电 的 通知 到...       1          1   \n",
       "2      好 了 这边 跟 您 说 一下 咱们 领取 每要 15 元 的 暂时 的 会员 您 按照 短...       1          1   \n",
       "3      嗯 这边 耽误 您 30 秒 时间 就 可以 了 先生 然后 的话 啊 首 月 是 征到 第...       1          1   \n",
       "4                               好 的 打扰到 您 了 祝您 生活 愉快 再见        1          1   \n",
       "5      你好 先生 来 电视 短信 资源 通知 时 这个 月 开始 每月 25 元 您 可以 领取 ...       1          2   \n",
       "\n",
       "                                                standard  \n",
       "index                                                     \n",
       "1      来电 是 感谢您 对 联通 的 支持 \\n 您 从 下个月 开始 每月 只要 25 元 就 ...  \n",
       "2      好 的 感谢您 的 支持 跟 你 说 一下 会员 怎么 领取 您 根据 短信 在 微信 公众...  \n",
       "3      好 的 感谢您 的 支持 跟 你 说 一下 会员 怎么 领取 您 根据 短信 在 微信 公众...  \n",
       "4      好 的 使用 中 您 可以 下载 中国联通 APP 查询 您 的 消费 情况 关注 最新 活...  \n",
       "5      来电 是 感谢您 对 联通 的 支持 \\n 您 从 下个月 开始 每月 只要 25 元 就 ...  "
      ]
     },
     "execution_count": 43,
     "metadata": {},
     "output_type": "execute_result"
    }
   ],
   "source": []
  },
  {
   "cell_type": "code",
   "execution_count": 39,
   "id": "0a3b8186",
   "metadata": {},
   "outputs": [
    {
     "data": {
      "text/html": [
       "<div>\n",
       "<style scoped>\n",
       "    .dataframe tbody tr th:only-of-type {\n",
       "        vertical-align: middle;\n",
       "    }\n",
       "\n",
       "    .dataframe tbody tr th {\n",
       "        vertical-align: top;\n",
       "    }\n",
       "\n",
       "    .dataframe thead th {\n",
       "        text-align: right;\n",
       "    }\n",
       "</style>\n",
       "<table border=\"1\" class=\"dataframe\">\n",
       "  <thead>\n",
       "    <tr style=\"text-align: right;\">\n",
       "      <th></th>\n",
       "      <th>是否重点句</th>\n",
       "      <th>重点句标题</th>\n",
       "      <th>客户回复分类</th>\n",
       "      <th>疑问句分类</th>\n",
       "      <th>文案</th>\n",
       "      <th>簇心编码</th>\n",
       "    </tr>\n",
       "    <tr>\n",
       "      <th>客户状态</th>\n",
       "      <th></th>\n",
       "      <th></th>\n",
       "      <th></th>\n",
       "      <th></th>\n",
       "      <th></th>\n",
       "      <th></th>\n",
       "    </tr>\n",
       "  </thead>\n",
       "  <tbody>\n",
       "    <tr>\n",
       "      <th>1</th>\n",
       "      <td>是</td>\n",
       "      <td>问候句</td>\n",
       "      <td>NaN</td>\n",
       "      <td>NaN</td>\n",
       "      <td>您好 这边 是 联通 客服 来电 的 请问 手机 尾号 是 你 在 用 的 对 吧</td>\n",
       "      <td>1000</td>\n",
       "    </tr>\n",
       "    <tr>\n",
       "      <th>2</th>\n",
       "      <td>是</td>\n",
       "      <td>质检句1</td>\n",
       "      <td>NaN</td>\n",
       "      <td>NaN</td>\n",
       "      <td>来电 是 感谢您 对 联通 的 支持 \\n 您 从 下个月 开始 每月 只要 25 元 就 ...</td>\n",
       "      <td>1001</td>\n",
       "    </tr>\n",
       "    <tr>\n",
       "      <th>2</th>\n",
       "      <td>否</td>\n",
       "      <td>质检句1</td>\n",
       "      <td>Bq</td>\n",
       "      <td>我需要交多25块钱吗？</td>\n",
       "      <td>就 每个 月 25 元 这边 有 话费 40 元 返还 给 您 抵扣 月租 的 分 四月 每...</td>\n",
       "      <td>1002</td>\n",
       "    </tr>\n",
       "    <tr>\n",
       "      <th>2</th>\n",
       "      <td>否</td>\n",
       "      <td>质检句1</td>\n",
       "      <td>Bq</td>\n",
       "      <td>我的套餐会改变吗？</td>\n",
       "      <td>不会 影响 您 的 套餐 的 每月 25 元 联通 还会 返还 40 元 话费 给 您 分 ...</td>\n",
       "      <td>1003</td>\n",
       "    </tr>\n",
       "    <tr>\n",
       "      <th>2</th>\n",
       "      <td>否</td>\n",
       "      <td>质检句1</td>\n",
       "      <td>Bq</td>\n",
       "      <td>我已经有会员了</td>\n",
       "      <td>没关系 啊 这边 也 是 可以 给 您 续 的 而且 我们 这个 是 有 二十多种 会员 您...</td>\n",
       "      <td>1004</td>\n",
       "    </tr>\n",
       "  </tbody>\n",
       "</table>\n",
       "</div>"
      ],
      "text/plain": [
       "     是否重点句 重点句标题 客户回复分类        疑问句分类  \\\n",
       "客户状态                                   \n",
       "1        是   问候句    NaN          NaN   \n",
       "2        是  质检句1    NaN          NaN   \n",
       "2        否  质检句1     Bq  我需要交多25块钱吗？   \n",
       "2        否  质检句1     Bq    我的套餐会改变吗？   \n",
       "2        否  质检句1     Bq      我已经有会员了   \n",
       "\n",
       "                                                     文案  簇心编码  \n",
       "客户状态                                                           \n",
       "1            您好 这边 是 联通 客服 来电 的 请问 手机 尾号 是 你 在 用 的 对 吧   1000  \n",
       "2     来电 是 感谢您 对 联通 的 支持 \\n 您 从 下个月 开始 每月 只要 25 元 就 ...  1001  \n",
       "2     就 每个 月 25 元 这边 有 话费 40 元 返还 给 您 抵扣 月租 的 分 四月 每...  1002  \n",
       "2     不会 影响 您 的 套餐 的 每月 25 元 联通 还会 返还 40 元 话费 给 您 分 ...  1003  \n",
       "2     没关系 啊 这边 也 是 可以 给 您 续 的 而且 我们 这个 是 有 二十多种 会员 您...  1004  "
      ]
     },
     "execution_count": 39,
     "metadata": {},
     "output_type": "execute_result"
    }
   ],
   "source": [
    "df2.head()"
   ]
  },
  {
   "cell_type": "markdown",
   "id": "115dcb63",
   "metadata": {
    "id": "115dcb63"
   },
   "source": [
    "# TFIDF"
   ]
  },
  {
   "cell_type": "code",
   "execution_count": 40,
   "id": "07b24e1d",
   "metadata": {
    "executionInfo": {
     "elapsed": 544,
     "status": "ok",
     "timestamp": 1628151432830,
     "user": {
      "displayName": "wanting gao",
      "photoUrl": "",
      "userId": "02187450814790850295"
     },
     "user_tz": -480
    },
    "id": "07b24e1d"
   },
   "outputs": [],
   "source": [
    "def get_response(query, responses):    \n",
    "\n",
    "    dictionary = corpora.Dictionary(responses)\n",
    "    #print(dictionary.token2id)  \n",
    "    \n",
    "    # 建立语料库\n",
    "    corpus = [dictionary.doc2bow(response) for response in responses]\n",
    "    \n",
    "    # 初始化一个tfidf模型,可以用它来转换向量（词袋整数计数），表示方法为新的表示方法（Tfidf 实数权重）\n",
    "    tfidf = models.TfidfModel(corpus)\n",
    "    \n",
    "    # 将整个语料库转为tfidf表示方法\n",
    "    corpus_tfidf = tfidf[corpus]\n",
    "\n",
    "    # 使用doc2bow方法对每个不同单词的词频进行了统计，并将单词转换为其编号，然后以稀疏向量的形式返回结果\n",
    "    new_vec = dictionary.doc2bow(query)\n",
    "    new_vec_tfidf = tfidf[new_vec] # 将待比较文档转换为tfidf表示方法\n",
    "   \n",
    "\n",
    "    # 使用上一步得到的带有tfidf值的语料库建立索引\n",
    "    index = similarities.MatrixSimilarity(corpus_tfidf)\n",
    "\n",
    "\n",
    "    # 计算要比较的文档与语料库中每篇文档的相似度\n",
    "    sims = index[new_vec_tfidf]\n",
    "    sims_list = sims.tolist()\n",
    "    \n",
    "    return sims_list"
   ]
  },
  {
   "cell_type": "markdown",
   "id": "hrKpbnOqOIFP",
   "metadata": {
    "id": "hrKpbnOqOIFP"
   },
   "source": [
    "# **get standard**"
   ]
  },
  {
   "cell_type": "code",
   "execution_count": 42,
   "id": "qORj6zgbDb6Y",
   "metadata": {
    "colab": {
     "base_uri": "https://localhost:8080/",
     "height": 305
    },
    "executionInfo": {
     "elapsed": 25096,
     "status": "ok",
     "timestamp": 1628151465929,
     "user": {
      "displayName": "wanting gao",
      "photoUrl": "",
      "userId": "02187450814790850295"
     },
     "user_tz": -480
    },
    "id": "qORj6zgbDb6Y",
    "outputId": "87c7a6c3-40c6-4755-e664-cf91219f85d1",
    "scrolled": true
   },
   "outputs": [],
   "source": [
    "list1 = []\n",
    "for i in range(len(response)):\n",
    "  index = np.argmax(get_response(response[i],standard))\n",
    "  list1.append(df2[\"文案\"].values[index])\n",
    "\n",
    "df[\"standard\"] = list1\n",
    "df.head()\n",
    "df.to_csv(\"standard.csv\")"
   ]
  },
  {
   "cell_type": "code",
   "execution_count": 12,
   "id": "6lesZEcDWLkn",
   "metadata": {
    "colab": {
     "base_uri": "https://localhost:8080/"
    },
    "executionInfo": {
     "elapsed": 1119,
     "status": "ok",
     "timestamp": 1628151472676,
     "user": {
      "displayName": "wanting gao",
      "photoUrl": "",
      "userId": "02187450814790850295"
     },
     "user_tz": -480
    },
    "id": "6lesZEcDWLkn",
    "outputId": "ae0a0f4e-04ad-46c9-e5c6-349e7e398f3d"
   },
   "outputs": [
    {
     "name": "stdout",
     "output_type": "stream",
     "text": [
      "嗯 那 先生 你 到时候 记得 根据 短信 在 微信 公众 号 上面 关于 音乐 约定 会员 就 可以 用 的 了 好 吧 \n",
      "\n",
      "好 的 感谢您 的 支持 跟 你 说 一下 会员 怎么 领取 您 根据 短信 在 微信 公众 号 沃 音乐 领取 就 好 了 \n",
      " 每月 25 元除 月租 外 一次性 扣取 立即 生效 自动 续订 \n",
      " 联通 还会 返还 您 40 元 话费 分 4 个 月 每月 返还 10 元 话费 会 在 下个月 10 号 前 到 账 \n",
      " 给 您 受理 好 收到 生效 短信 后 就 可以 放心 用 的 了 好 吧 \n"
     ]
    }
   ],
   "source": [
    "print(df.response[5])\n",
    "print('')\n",
    "print(df.standard[5])"
   ]
  },
  {
   "cell_type": "code",
   "execution_count": 133,
   "id": "86FsjS08X801",
   "metadata": {
    "executionInfo": {
     "elapsed": 719,
     "status": "ok",
     "timestamp": 1628151503530,
     "user": {
      "displayName": "wanting gao",
      "photoUrl": "",
      "userId": "02187450814790850295"
     },
     "user_tz": -480
    },
    "id": "86FsjS08X801"
   },
   "outputs": [],
   "source": [
    "df.to_csv(\"./data/tfidf.csv\")"
   ]
  }
 ],
 "metadata": {
  "colab": {
   "collapsed_sections": [],
   "name": "TFIDF.ipynb",
   "provenance": []
  },
  "kernelspec": {
   "display_name": "Python 3",
   "language": "python",
   "name": "python3"
  },
  "language_info": {
   "codemirror_mode": {
    "name": "ipython",
    "version": 3
   },
   "file_extension": ".py",
   "mimetype": "text/x-python",
   "name": "python",
   "nbconvert_exporter": "python",
   "pygments_lexer": "ipython3",
   "version": "3.8.8"
  }
 },
 "nbformat": 4,
 "nbformat_minor": 5
}
