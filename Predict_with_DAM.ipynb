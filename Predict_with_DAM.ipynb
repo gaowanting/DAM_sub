{
 "cells": [
  {
   "cell_type": "markdown",
   "metadata": {
    "id": "w3jGGtGQH_an"
   },
   "source": [
    "## Predict_with_DAM"
   ]
  },
  {
   "cell_type": "code",
   "execution_count": 1,
   "metadata": {},
   "outputs": [
    {
     "name": "stderr",
     "output_type": "stream",
     "text": [
      "ERROR: Could not find a version that satisfies the requirement net\n",
      "ERROR: No matching distribution found for net\n"
     ]
    }
   ],
   "source": [
    "!pip install net"
   ]
  },
  {
   "cell_type": "code",
   "execution_count": 3,
   "metadata": {
    "executionInfo": {
     "elapsed": 6602,
     "status": "ok",
     "timestamp": 1628735779212,
     "user": {
      "displayName": "Xinyi Gao",
      "photoUrl": "https://lh3.googleusercontent.com/a-/AOh14Gj558GDGyisdrx5drhcSVQ6HUdeV-ZmmqJ1Mh1h=s64",
      "userId": "08476610466733533858"
     },
     "user_tz": 420
    },
    "id": "grPbGfsQM6Am"
   },
   "outputs": [],
   "source": [
    "import pandas as pd\n",
    "from transformers import BertTokenizer\n",
    "from keras.preprocessing.sequence import pad_sequences"
   ]
  },
  {
   "cell_type": "code",
   "execution_count": 4,
   "metadata": {
    "id": "ARG7cJl-Nr3Y"
   },
   "outputs": [],
   "source": [
    "# Configs\n",
    "\n",
    "MAX_LEN = 128\n",
    "\n",
    "# 如果ConnectionError就把local_files_only改成True\n",
    "tokenizer = BertTokenizer.from_pretrained('bert-base-uncased',local_files_only=False,do_lower_case=True)"
   ]
  },
  {
   "cell_type": "code",
   "execution_count": 5,
   "metadata": {
    "executionInfo": {
     "elapsed": 1402,
     "status": "ok",
     "timestamp": 1628748919514,
     "user": {
      "displayName": "Xinyi Gao",
      "photoUrl": "https://lh3.googleusercontent.com/a-/AOh14Gj558GDGyisdrx5drhcSVQ6HUdeV-ZmmqJ1Mh1h=s64",
      "userId": "08476610466733533858"
     },
     "user_tz": 420
    },
    "id": "a1hhn0Cg_5sA"
   },
   "outputs": [],
   "source": [
    "context = \"呃来电是,感谢你对联通的支持嘛!从下个月开始,每月25元就可以领取两款VIP会员来用了。20多个会员随机选择，呃，联通还是返还你4个月话费，每月10元返还的话费是可以直接抵扣你月租费用的。田先生你好!你下个月收短信可以领取来用了好吧。\\t嗯，好的，好。\\t嗯，那好，那耽误20秒，感谢你的支持啊！每月25元的钻石会员，7月生效。推动点联通还会返还您10个月话费，每月10元话费会在3月10号前到账，你到时候根据短信提醒你在微信公众号或音乐领取就可以就可以用了，好吧。\\t嗯好，谢谢！\"\n",
    "df_r = pd.read_excel(\"./data/嘉音讯_重庆联通_未来会员STT入库表.xlsx\")\n",
    "\n",
    "re = df_r[\"文案\"].unique()\n",
    "\n",
    "df = pd.DataFrame({\"context\":context,\"response\":re})"
   ]
  },
  {
   "cell_type": "code",
   "execution_count": 6,
   "metadata": {
    "colab": {
     "base_uri": "https://localhost:8080/",
     "height": 378
    },
    "executionInfo": {
     "elapsed": 371,
     "status": "ok",
     "timestamp": 1628748923087,
     "user": {
      "displayName": "Xinyi Gao",
      "photoUrl": "https://lh3.googleusercontent.com/a-/AOh14Gj558GDGyisdrx5drhcSVQ6HUdeV-ZmmqJ1Mh1h=s64",
      "userId": "08476610466733533858"
     },
     "user_tz": 420
    },
    "id": "6A8re40LKHWS",
    "outputId": "44d81d1d-d24f-4a3a-939b-6dfc7abaff3c"
   },
   "outputs": [
    {
     "data": {
      "text/html": [
       "<div>\n",
       "<style scoped>\n",
       "    .dataframe tbody tr th:only-of-type {\n",
       "        vertical-align: middle;\n",
       "    }\n",
       "\n",
       "    .dataframe tbody tr th {\n",
       "        vertical-align: top;\n",
       "    }\n",
       "\n",
       "    .dataframe thead th {\n",
       "        text-align: right;\n",
       "    }\n",
       "</style>\n",
       "<table border=\"1\" class=\"dataframe\">\n",
       "  <thead>\n",
       "    <tr style=\"text-align: right;\">\n",
       "      <th></th>\n",
       "      <th>context</th>\n",
       "      <th>response</th>\n",
       "    </tr>\n",
       "  </thead>\n",
       "  <tbody>\n",
       "    <tr>\n",
       "      <th>0</th>\n",
       "      <td>呃来电是,感谢你对联通的支持嘛!从下个月开始,每月25元就可以领取两款VIP会员来用了。20...</td>\n",
       "      <td>您好，这边是联通客服来电的，请问手机尾号****是你在用的对吧？</td>\n",
       "    </tr>\n",
       "    <tr>\n",
       "      <th>1</th>\n",
       "      <td>呃来电是,感谢你对联通的支持嘛!从下个月开始,每月25元就可以领取两款VIP会员来用了。20...</td>\n",
       "      <td>来电是感谢您对联通的支持。\\n您从下个月开始，每月只要25元就可以领取两个VIP会员。\\n因...</td>\n",
       "    </tr>\n",
       "    <tr>\n",
       "      <th>2</th>\n",
       "      <td>呃来电是,感谢你对联通的支持嘛!从下个月开始,每月25元就可以领取两款VIP会员来用了。20...</td>\n",
       "      <td>就每个月25元，这边有话费40元返还给您抵扣月租的，分四月每月到账10元，希望可以帮您几个月...</td>\n",
       "    </tr>\n",
       "    <tr>\n",
       "      <th>3</th>\n",
       "      <td>呃来电是,感谢你对联通的支持嘛!从下个月开始,每月25元就可以领取两款VIP会员来用了。20...</td>\n",
       "      <td>不会影响您的套餐的，每月25元，联通还会返还40元话费给您，分四月每月到账10元，希望可以帮...</td>\n",
       "    </tr>\n",
       "    <tr>\n",
       "      <th>4</th>\n",
       "      <td>呃来电是,感谢你对联通的支持嘛!从下个月开始,每月25元就可以领取两款VIP会员来用了。20...</td>\n",
       "      <td>没关系啊，这边也是可以给您续的，而且我们这个是有二十多种会员，您每个月可以任意选两个用，每个...</td>\n",
       "    </tr>\n",
       "    <tr>\n",
       "      <th>5</th>\n",
       "      <td>呃来电是,感谢你对联通的支持嘛!从下个月开始,每月25元就可以领取两款VIP会员来用了。20...</td>\n",
       "      <td>就耽误您一两分钟时间，现在有会员给到您用，联通还会返还40元话费给您，分四月每月到账10元，...</td>\n",
       "    </tr>\n",
       "    <tr>\n",
       "      <th>6</th>\n",
       "      <td>呃来电是,感谢你对联通的支持嘛!从下个月开始,每月25元就可以领取两款VIP会员来用了。20...</td>\n",
       "      <td>好的，感谢您的支持，跟你说一下会员怎么领取，您根据短信在微信公众号“沃音乐”领取就好了。\\n...</td>\n",
       "    </tr>\n",
       "    <tr>\n",
       "      <th>7</th>\n",
       "      <td>呃来电是,感谢你对联通的支持嘛!从下个月开始,每月25元就可以领取两款VIP会员来用了。20...</td>\n",
       "      <td>好的，使用中您可以下载“中国联通”APP查询您的消费情况、关注最新活动福利，祝您生活愉快，再见！</td>\n",
       "    </tr>\n",
       "  </tbody>\n",
       "</table>\n",
       "</div>"
      ],
      "text/plain": [
       "                                             context  \\\n",
       "0  呃来电是,感谢你对联通的支持嘛!从下个月开始,每月25元就可以领取两款VIP会员来用了。20...   \n",
       "1  呃来电是,感谢你对联通的支持嘛!从下个月开始,每月25元就可以领取两款VIP会员来用了。20...   \n",
       "2  呃来电是,感谢你对联通的支持嘛!从下个月开始,每月25元就可以领取两款VIP会员来用了。20...   \n",
       "3  呃来电是,感谢你对联通的支持嘛!从下个月开始,每月25元就可以领取两款VIP会员来用了。20...   \n",
       "4  呃来电是,感谢你对联通的支持嘛!从下个月开始,每月25元就可以领取两款VIP会员来用了。20...   \n",
       "5  呃来电是,感谢你对联通的支持嘛!从下个月开始,每月25元就可以领取两款VIP会员来用了。20...   \n",
       "6  呃来电是,感谢你对联通的支持嘛!从下个月开始,每月25元就可以领取两款VIP会员来用了。20...   \n",
       "7  呃来电是,感谢你对联通的支持嘛!从下个月开始,每月25元就可以领取两款VIP会员来用了。20...   \n",
       "\n",
       "                                            response  \n",
       "0                   您好，这边是联通客服来电的，请问手机尾号****是你在用的对吧？  \n",
       "1  来电是感谢您对联通的支持。\\n您从下个月开始，每月只要25元就可以领取两个VIP会员。\\n因...  \n",
       "2  就每个月25元，这边有话费40元返还给您抵扣月租的，分四月每月到账10元，希望可以帮您几个月...  \n",
       "3  不会影响您的套餐的，每月25元，联通还会返还40元话费给您，分四月每月到账10元，希望可以帮...  \n",
       "4  没关系啊，这边也是可以给您续的，而且我们这个是有二十多种会员，您每个月可以任意选两个用，每个...  \n",
       "5  就耽误您一两分钟时间，现在有会员给到您用，联通还会返还40元话费给您，分四月每月到账10元，...  \n",
       "6  好的，感谢您的支持，跟你说一下会员怎么领取，您根据短信在微信公众号“沃音乐”领取就好了。\\n...  \n",
       "7   好的，使用中您可以下载“中国联通”APP查询您的消费情况、关注最新活动福利，祝您生活愉快，再见！  "
      ]
     },
     "execution_count": 6,
     "metadata": {},
     "output_type": "execute_result"
    }
   ],
   "source": [
    "df.head(8)"
   ]
  },
  {
   "cell_type": "markdown",
   "metadata": {
    "id": "6FVpAhgXNcE6"
   },
   "source": [
    "### Embedding"
   ]
  },
  {
   "cell_type": "code",
   "execution_count": 7,
   "metadata": {
    "executionInfo": {
     "elapsed": 338,
     "status": "ok",
     "timestamp": 1628748936682,
     "user": {
      "displayName": "Xinyi Gao",
      "photoUrl": "https://lh3.googleusercontent.com/a-/AOh14Gj558GDGyisdrx5drhcSVQ6HUdeV-ZmmqJ1Mh1h=s64",
      "userId": "08476610466733533858"
     },
     "user_tz": 420
    },
    "id": "YAiiNIrMNgqe"
   },
   "outputs": [],
   "source": [
    "def vectorize(text, MAX_LEN=MAX_LEN, tokenizer=tokenizer):\n",
    "\n",
    "    input_ids = []\n",
    "    for t in text:\n",
    "        # so basically encode tokenizing , mapping sentences to thier token ids after adding special tokens.\n",
    "        encoded_sent = tokenizer.encode(\n",
    "            t,  # Sentence which are encoding.\n",
    "            add_special_tokens=True,  # Adding special tokens '[CLS]' and '[SEP]'\n",
    "        )\n",
    "        input_ids.append(encoded_sent)\n",
    "\n",
    "    input_ids = pad_sequences(input_ids, maxlen=MAX_LEN , truncating=\"pre\", padding=\"post\")\n",
    "\n",
    "    attention_masks = []\n",
    "    for sent in input_ids:\n",
    "        # Generating attention mask for sentences.\n",
    "        #   - when there is 0 present as token id we are going to set mask as 0.\n",
    "        #   - we are going to set mask 1 for all non-zero positive input id.\n",
    "        att_mask = [int(token_id > 0) for token_id in sent]\n",
    "\n",
    "        attention_masks.append(att_mask)\n",
    "\n",
    "    return attention_masks, input_ids"
   ]
  },
  {
   "cell_type": "code",
   "execution_count": 8,
   "metadata": {
    "executionInfo": {
     "elapsed": 514,
     "status": "ok",
     "timestamp": 1628748939434,
     "user": {
      "displayName": "Xinyi Gao",
      "photoUrl": "https://lh3.googleusercontent.com/a-/AOh14Gj558GDGyisdrx5drhcSVQ6HUdeV-ZmmqJ1Mh1h=s64",
      "userId": "08476610466733533858"
     },
     "user_tz": 420
    },
    "id": "TLLvZi2LNqD5"
   },
   "outputs": [],
   "source": [
    "_, X_c = vectorize(df.context)\n",
    "_, X_r = vectorize(df.response)"
   ]
  },
  {
   "cell_type": "code",
   "execution_count": 9,
   "metadata": {
    "executionInfo": {
     "elapsed": 2,
     "status": "ok",
     "timestamp": 1628748940718,
     "user": {
      "displayName": "Xinyi Gao",
      "photoUrl": "https://lh3.googleusercontent.com/a-/AOh14Gj558GDGyisdrx5drhcSVQ6HUdeV-ZmmqJ1Mh1h=s64",
      "userId": "08476610466733533858"
     },
     "user_tz": 420
    },
    "id": "_djeqzG0Owqn"
   },
   "outputs": [],
   "source": [
    "from six import b\n",
    "data = {}\n",
    "data[b('c')] = X_c\n",
    "data[b('r')] = X_r\n",
    "data[b('y')] = [1,0,0,0,0,0,0,0]"
   ]
  },
  {
   "cell_type": "code",
   "execution_count": 10,
   "metadata": {
    "executionInfo": {
     "elapsed": 4,
     "status": "ok",
     "timestamp": 1628748943835,
     "user": {
      "displayName": "Xinyi Gao",
      "photoUrl": "https://lh3.googleusercontent.com/a-/AOh14Gj558GDGyisdrx5drhcSVQ6HUdeV-ZmmqJ1Mh1h=s64",
      "userId": "08476610466733533858"
     },
     "user_tz": 420
    },
    "id": "SNu2OThHafBx"
   },
   "outputs": [],
   "source": [
    "import pickle\n",
    "\n",
    "with open('./data/predict.pkl','wb') as f:\n",
    "    pickle.dump(data,f)"
   ]
  },
  {
   "cell_type": "markdown",
   "metadata": {
    "id": "etBdpmZxNpSO"
   },
   "source": [
    "### Predict"
   ]
  },
  {
   "cell_type": "code",
   "execution_count": 10,
   "metadata": {
    "id": "3ZeOSB9SPe4K"
   },
   "outputs": [
    {
     "name": "stdout",
     "output_type": "stream",
     "text": [
      "Requirement already satisfied: paddlepaddle in c:\\users\\g2018\\anaconda3\\lib\\site-packages (2.1.1)\n",
      "Requirement already satisfied: requests>=2.20.0 in c:\\users\\g2018\\anaconda3\\lib\\site-packages (from paddlepaddle) (2.23.0)\n",
      "Requirement already satisfied: numpy<=1.19.3,>=1.13 in c:\\users\\g2018\\anaconda3\\lib\\site-packages (from paddlepaddle) (1.18.5)\n",
      "Requirement already satisfied: Pillow in c:\\users\\g2018\\anaconda3\\lib\\site-packages (from paddlepaddle) (8.2.0)\n",
      "Requirement already satisfied: gast==0.3.3 in c:\\users\\g2018\\anaconda3\\lib\\site-packages (from paddlepaddle) (0.3.3)\n",
      "Requirement already satisfied: astor in c:\\users\\g2018\\anaconda3\\lib\\site-packages (from paddlepaddle) (0.8.1)\n",
      "Requirement already satisfied: protobuf>=3.1.0 in c:\\users\\g2018\\anaconda3\\lib\\site-packages (from paddlepaddle) (3.17.0)\n",
      "Requirement already satisfied: six in c:\\users\\g2018\\anaconda3\\lib\\site-packages (from paddlepaddle) (1.15.0)\n",
      "Requirement already satisfied: decorator==4.4.2 in c:\\users\\g2018\\anaconda3\\lib\\site-packages (from paddlepaddle) (4.4.2)\n",
      "Requirement already satisfied: certifi>=2017.4.17 in c:\\users\\g2018\\anaconda3\\lib\\site-packages (from requests>=2.20.0->paddlepaddle) (2020.12.5)\n",
      "Requirement already satisfied: idna<3,>=2.5 in c:\\users\\g2018\\anaconda3\\lib\\site-packages (from requests>=2.20.0->paddlepaddle) (2.10)\n",
      "Requirement already satisfied: chardet<4,>=3.0.2 in c:\\users\\g2018\\anaconda3\\lib\\site-packages (from requests>=2.20.0->paddlepaddle) (3.0.4)\n",
      "Requirement already satisfied: urllib3!=1.25.0,!=1.25.1,<1.26,>=1.21.1 in c:\\users\\g2018\\anaconda3\\lib\\site-packages (from requests>=2.20.0->paddlepaddle) (1.25.11)\n"
     ]
    }
   ],
   "source": [
    "!python -m pip install paddlepaddle"
   ]
  },
  {
   "cell_type": "markdown",
   "metadata": {
    "id": "XJO-_pOR8eCz"
   },
   "source": [
    "### Select Response"
   ]
  },
  {
   "cell_type": "code",
   "execution_count": 12,
   "metadata": {
    "executionInfo": {
     "elapsed": 313,
     "status": "ok",
     "timestamp": 1628748990765,
     "user": {
      "displayName": "Xinyi Gao",
      "photoUrl": "https://lh3.googleusercontent.com/a-/AOh14Gj558GDGyisdrx5drhcSVQ6HUdeV-ZmmqJ1Mh1h=s64",
      "userId": "08476610466733533858"
     },
     "user_tz": 420
    },
    "id": "Tu7Pl0OD7b_N"
   },
   "outputs": [],
   "source": [
    "file_path = r'C:\\Users\\g2018\\Desktop\\DAM\\models-release-1.5\\PaddleNLP\\dialogue_model_toolkit\\deep_attention_matching\\saved_models\\pscore.txt'\n",
    "data = []\n",
    "with open(file_path, 'r') as file:\n",
    "    for line in file:\n",
    "        line = line.strip()\n",
    "        tokens = line.split(\"\\t\")\n",
    "\n",
    "        if len(tokens) != 2:\n",
    "            continue\n",
    "\n",
    "        data.append((float(tokens[0]), int(tokens[1])))"
   ]
  },
  {
   "cell_type": "code",
   "execution_count": 13,
   "metadata": {
    "executionInfo": {
     "elapsed": 390,
     "status": "ok",
     "timestamp": 1628748995398,
     "user": {
      "displayName": "Xinyi Gao",
      "photoUrl": "https://lh3.googleusercontent.com/a-/AOh14Gj558GDGyisdrx5drhcSVQ6HUdeV-ZmmqJ1Mh1h=s64",
      "userId": "08476610466733533858"
     },
     "user_tz": 420
    },
    "id": "VfevyUia-6OK"
   },
   "outputs": [],
   "source": [
    "pre_r = []\n",
    "for i in range(0,len(data)):\n",
    "  pre_r.append((data[i][0],df.response[i]))"
   ]
  },
  {
   "cell_type": "code",
   "execution_count": 14,
   "metadata": {
    "executionInfo": {
     "elapsed": 507,
     "status": "ok",
     "timestamp": 1628749004748,
     "user": {
      "displayName": "Xinyi Gao",
      "photoUrl": "https://lh3.googleusercontent.com/a-/AOh14Gj558GDGyisdrx5drhcSVQ6HUdeV-ZmmqJ1Mh1h=s64",
      "userId": "08476610466733533858"
     },
     "user_tz": 420
    },
    "id": "rAdo1y1z9GoX"
   },
   "outputs": [],
   "source": [
    "sort_data = sorted(pre_r, key=lambda x: x[0], reverse=True)"
   ]
  },
  {
   "cell_type": "code",
   "execution_count": 15,
   "metadata": {
    "colab": {
     "base_uri": "https://localhost:8080/",
     "height": 104
    },
    "executionInfo": {
     "elapsed": 473,
     "status": "ok",
     "timestamp": 1628749023105,
     "user": {
      "displayName": "Xinyi Gao",
      "photoUrl": "https://lh3.googleusercontent.com/a-/AOh14Gj558GDGyisdrx5drhcSVQ6HUdeV-ZmmqJ1Mh1h=s64",
      "userId": "08476610466733533858"
     },
     "user_tz": 420
    },
    "id": "Iq5jF2tzAbiu",
    "outputId": "27d62254-38d6-490b-e29a-9b1c8c8500f3"
   },
   "outputs": [
    {
     "data": {
      "text/plain": [
       "'呃来电是,感谢你对联通的支持嘛!从下个月开始,每月25元就可以领取两款VIP会员来用了。20多个会员随机选择，呃，联通还是返还你4个月话费，每月10元返还的话费是可以直接抵扣你月租费用的。田先生你好!你下个月收短信可以领取来用了好吧。\\t嗯，好的，好。\\t嗯，那好，那耽误20秒，感谢你的支持啊！每月25元的钻石会员，7月生效。推动点联通还会返还您10个月话费，每月10元话费会在3月10号前到账，你到时候根据短信提醒你在微信公众号或音乐领取就可以就可以用了，好吧。\\t嗯好，谢谢！'"
      ]
     },
     "execution_count": 15,
     "metadata": {},
     "output_type": "execute_result"
    }
   ],
   "source": [
    "context"
   ]
  },
  {
   "cell_type": "code",
   "execution_count": 16,
   "metadata": {
    "colab": {
     "base_uri": "https://localhost:8080/",
     "height": 52
    },
    "executionInfo": {
     "elapsed": 438,
     "status": "ok",
     "timestamp": 1628749201349,
     "user": {
      "displayName": "Xinyi Gao",
      "photoUrl": "https://lh3.googleusercontent.com/a-/AOh14Gj558GDGyisdrx5drhcSVQ6HUdeV-ZmmqJ1Mh1h=s64",
      "userId": "08476610466733533858"
     },
     "user_tz": 420
    },
    "id": "d26k7NhDAYIQ",
    "outputId": "adf6c3a2-d6db-4705-df1a-f2d7f45b6181"
   },
   "outputs": [
    {
     "data": {
      "text/plain": [
       "'好的，使用中您可以下载“中国联通”APP查询您的消费情况、关注最新活动福利，祝您生活愉快，再见！'"
      ]
     },
     "execution_count": 16,
     "metadata": {},
     "output_type": "execute_result"
    }
   ],
   "source": [
    "sort_data[0][1]"
   ]
  },
  {
   "cell_type": "code",
   "execution_count": null,
   "metadata": {},
   "outputs": [],
   "source": []
  }
 ],
 "metadata": {
  "colab": {
   "authorship_tag": "ABX9TyN1XtVgprbUcMYsH9EBk41V",
   "collapsed_sections": [],
   "name": "Predict_with_DAM.ipynb",
   "provenance": []
  },
  "kernelspec": {
   "display_name": "Python 3",
   "language": "python",
   "name": "python3"
  },
  "language_info": {
   "codemirror_mode": {
    "name": "ipython",
    "version": 3
   },
   "file_extension": ".py",
   "mimetype": "text/x-python",
   "name": "python",
   "nbconvert_exporter": "python",
   "pygments_lexer": "ipython3",
   "version": "3.8.8"
  }
 },
 "nbformat": 4,
 "nbformat_minor": 1
}
