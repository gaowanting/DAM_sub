{
 "cells": [
  {
   "cell_type": "code",
   "execution_count": 1,
   "id": "3a4128a3",
   "metadata": {},
   "outputs": [],
   "source": [
    "import pandas as pd"
   ]
  },
  {
   "cell_type": "code",
   "execution_count": 12,
   "id": "2cb4d605",
   "metadata": {},
   "outputs": [],
   "source": [
    "df = pd.read_csv(\"./data/ABA_train.csv\",index_col=0)"
   ]
  },
  {
   "cell_type": "code",
   "execution_count": 11,
   "id": "8654bd9d",
   "metadata": {
    "scrolled": false
   },
   "outputs": [
    {
     "data": {
      "text/plain": [
       "3239"
      ]
     },
     "execution_count": 11,
     "metadata": {},
     "output_type": "execute_result"
    }
   ],
   "source": [
    "len(df)"
   ]
  },
  {
   "cell_type": "code",
   "execution_count": 13,
   "id": "be3929e1",
   "metadata": {},
   "outputs": [
    {
     "data": {
      "text/html": [
       "<div>\n",
       "<style scoped>\n",
       "    .dataframe tbody tr th:only-of-type {\n",
       "        vertical-align: middle;\n",
       "    }\n",
       "\n",
       "    .dataframe tbody tr th {\n",
       "        vertical-align: top;\n",
       "    }\n",
       "\n",
       "    .dataframe thead th {\n",
       "        text-align: right;\n",
       "    }\n",
       "</style>\n",
       "<table border=\"1\" class=\"dataframe\">\n",
       "  <thead>\n",
       "    <tr style=\"text-align: right;\">\n",
       "      <th></th>\n",
       "      <th>context</th>\n",
       "      <th>response</th>\n",
       "      <th>label_</th>\n",
       "    </tr>\n",
       "  </thead>\n",
       "  <tbody>\n",
       "    <tr>\n",
       "      <th>0</th>\n",
       "      <td>呃 来电 是 感谢 你 对 联通 的 支持 嘛 从 下个月 开始 每月 25 元 就 可以 ...</td>\n",
       "      <td>嗯 那 好 那 耽误 20 秒 感谢 你 的 支持 啊 每月 25 元 的 钻石 了 会员 ...</td>\n",
       "      <td>1</td>\n",
       "    </tr>\n",
       "    <tr>\n",
       "      <th>1</th>\n",
       "      <td>嗯 那 好 那 耽误 20 秒 感谢 你 的 支持 啊 每月 25 元 的 钻石 了 会员 ...</td>\n",
       "      <td>嗯 那 好 那 这边 先 不 打扰 您 了 祝您 生活 愉快 再见 嗯</td>\n",
       "      <td>1</td>\n",
       "    </tr>\n",
       "    <tr>\n",
       "      <th>2</th>\n",
       "      <td>好 的 来电 的话 先 感谢 你 对 联通 的 支持 下个月 开始 每月 25 元 就 可以...</td>\n",
       "      <td>让 大家 重新 建立 嗯 这边 重新 跟 你 说 一遍 嘛 就是说 这边 来电 的话 就是 ...</td>\n",
       "      <td>1</td>\n",
       "    </tr>\n",
       "    <tr>\n",
       "      <th>3</th>\n",
       "      <td>让 大家 重新 建立 嗯 这边 重新 跟 你 说 一遍 嘛 就是说 这边 来电 的话 就是 ...</td>\n",
       "      <td>那 你 下个月 收到 短信 就 可以 领取 这些 会员 的 了 那 这边 给 你 10 周年...</td>\n",
       "      <td>1</td>\n",
       "    </tr>\n",
       "    <tr>\n",
       "      <th>4</th>\n",
       "      <td>那 你 下个月 收到 短信 就 可以 领取 这些 会员 的 了 那 这边 给 你 10 周年...</td>\n",
       "      <td>好 的 那 这边 给 那 这边 的话 感谢 你 的 支持 的 从 下个月 开始 正式 入 会...</td>\n",
       "      <td>1</td>\n",
       "    </tr>\n",
       "    <tr>\n",
       "      <th>...</th>\n",
       "      <td>...</td>\n",
       "      <td>...</td>\n",
       "      <td>...</td>\n",
       "    </tr>\n",
       "    <tr>\n",
       "      <th>3234</th>\n",
       "      <td>啊 好 的 感谢您 的 支持 每月 25 元 的 钻石 的 会员 继续 生效 自动 续订 前...</td>\n",
       "      <td>嗯 好 的</td>\n",
       "      <td>1</td>\n",
       "    </tr>\n",
       "    <tr>\n",
       "      <th>3235</th>\n",
       "      <td>啊 感谢您 的 接听 给 你 来 电视 感谢 你 对 联通 的 支持 我 可以 到 您 从 ...</td>\n",
       "      <td>这边 再 耽误 您 一分钟 感谢您 的 支持 每月 25 元 的 暂时 了 会员 资源 生效...</td>\n",
       "      <td>1</td>\n",
       "    </tr>\n",
       "    <tr>\n",
       "      <th>3236</th>\n",
       "      <td>这边 再 耽误 您 一分钟 感谢您 的 支持 每月 25 元 的 暂时 了 会员 资源 生效...</td>\n",
       "      <td>啊 那 这边 的话 就 不 打扰 您 了 祝您 生活 愉快 再见</td>\n",
       "      <td>1</td>\n",
       "    </tr>\n",
       "    <tr>\n",
       "      <th>3237</th>\n",
       "      <td>好 感谢您 的 接听 给 您 来 电视 感谢您 对 联通 的 支持 我 可以 到 您 从 下...</td>\n",
       "      <td>啊 这边 再 耽误 您 一分钟 感谢您 的 支持 每年 25 元 的 暂时 的 会员 事业 ...</td>\n",
       "      <td>1</td>\n",
       "    </tr>\n",
       "    <tr>\n",
       "      <th>3238</th>\n",
       "      <td>啊 这边 再 耽误 您 一分钟 感谢您 的 支持 每年 25 元 的 暂时 的 会员 事业 ...</td>\n",
       "      <td>这边 的话 就 不 打扰 您 了 祝您 生活 愉快 再见</td>\n",
       "      <td>1</td>\n",
       "    </tr>\n",
       "  </tbody>\n",
       "</table>\n",
       "<p>3239 rows × 3 columns</p>\n",
       "</div>"
      ],
      "text/plain": [
       "                                                context  \\\n",
       "0     呃 来电 是 感谢 你 对 联通 的 支持 嘛 从 下个月 开始 每月 25 元 就 可以 ...   \n",
       "1     嗯 那 好 那 耽误 20 秒 感谢 你 的 支持 啊 每月 25 元 的 钻石 了 会员 ...   \n",
       "2     好 的 来电 的话 先 感谢 你 对 联通 的 支持 下个月 开始 每月 25 元 就 可以...   \n",
       "3     让 大家 重新 建立 嗯 这边 重新 跟 你 说 一遍 嘛 就是说 这边 来电 的话 就是 ...   \n",
       "4     那 你 下个月 收到 短信 就 可以 领取 这些 会员 的 了 那 这边 给 你 10 周年...   \n",
       "...                                                 ...   \n",
       "3234  啊 好 的 感谢您 的 支持 每月 25 元 的 钻石 的 会员 继续 生效 自动 续订 前...   \n",
       "3235  啊 感谢您 的 接听 给 你 来 电视 感谢 你 对 联通 的 支持 我 可以 到 您 从 ...   \n",
       "3236  这边 再 耽误 您 一分钟 感谢您 的 支持 每月 25 元 的 暂时 了 会员 资源 生效...   \n",
       "3237  好 感谢您 的 接听 给 您 来 电视 感谢您 对 联通 的 支持 我 可以 到 您 从 下...   \n",
       "3238  啊 这边 再 耽误 您 一分钟 感谢您 的 支持 每年 25 元 的 暂时 的 会员 事业 ...   \n",
       "\n",
       "                                               response  label_  \n",
       "0     嗯 那 好 那 耽误 20 秒 感谢 你 的 支持 啊 每月 25 元 的 钻石 了 会员 ...       1  \n",
       "1                  嗯 那 好 那 这边 先 不 打扰 您 了 祝您 生活 愉快 再见 嗯        1  \n",
       "2     让 大家 重新 建立 嗯 这边 重新 跟 你 说 一遍 嘛 就是说 这边 来电 的话 就是 ...       1  \n",
       "3     那 你 下个月 收到 短信 就 可以 领取 这些 会员 的 了 那 这边 给 你 10 周年...       1  \n",
       "4     好 的 那 这边 给 那 这边 的话 感谢 你 的 支持 的 从 下个月 开始 正式 入 会...       1  \n",
       "...                                                 ...     ...  \n",
       "3234                                             嗯 好 的        1  \n",
       "3235  这边 再 耽误 您 一分钟 感谢您 的 支持 每月 25 元 的 暂时 了 会员 资源 生效...       1  \n",
       "3236                  啊 那 这边 的话 就 不 打扰 您 了 祝您 生活 愉快 再见        1  \n",
       "3237  啊 这边 再 耽误 您 一分钟 感谢您 的 支持 每年 25 元 的 暂时 的 会员 事业 ...       1  \n",
       "3238                      这边 的话 就 不 打扰 您 了 祝您 生活 愉快 再见        1  \n",
       "\n",
       "[3239 rows x 3 columns]"
      ]
     },
     "execution_count": 13,
     "metadata": {},
     "output_type": "execute_result"
    }
   ],
   "source": [
    "df"
   ]
  },
  {
   "cell_type": "code",
   "execution_count": null,
   "id": "aaf48683",
   "metadata": {},
   "outputs": [],
   "source": []
  }
 ],
 "metadata": {
  "kernelspec": {
   "display_name": "Python 3.8.1 64-bit",
   "language": "python",
   "name": "python38164bitf0432b9328a04736bddac313b1fe31ec"
  },
  "language_info": {
   "codemirror_mode": {
    "name": "ipython",
    "version": 3
   },
   "file_extension": ".py",
   "mimetype": "text/x-python",
   "name": "python",
   "nbconvert_exporter": "python",
   "pygments_lexer": "ipython3",
   "version": "3.8.8"
  }
 },
 "nbformat": 4,
 "nbformat_minor": 5
}
